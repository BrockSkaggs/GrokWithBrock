{
 "cells": [
  {
   "cell_type": "markdown",
   "id": "286b4dde-b082-411a-8e0f-62dd6f6aa6ea",
   "metadata": {
    "tags": []
   },
   "source": [
    "# Pencil Production Solution - Pyomo with GLPK\n",
    "Notebook to demonstrate the use of Pyomo and the GLPK solver to solve the pencil production problem.\n",
    "\n",
    "## Model\n",
    "\\begin{equation*}\n",
    "\\begin{array}{llllll}\n",
    "\\text{max} & 0.41x_e & + & 0.84x_d & & \\\\\n",
    "\\text{s.t} & & & & & \\\\\n",
    "           & (5.56 \\cdot 10^{-4})x_e & + & (5.56 \\cdot 10^{-4})x_d & \\le & 12\\\\\n",
    "           & (9.72 \\cdot 10^{-4})x_e & + & (9.72 \\cdot 10^{-4})x_d & \\le & 8.25\\\\\n",
    "           & (3.47 \\cdot 10^{-4})x_e & + & (2.43 \\cdot 10^{-3})x_d & \\le & 13\\\\\n",
    "           & (2.22 \\cdot 10^{-3})x_e & + & (2.78 \\cdot 10^{-3})x_d & \\le & 18\\\\\n",
    "           & 0.1x_e & + & 0.1x_d & \\le & 15,000\\\\\n",
    "           & 0.094x_e & + & 0.094x_d & \\le & 1,250\\\\\n",
    "           & 0.188x_e &   &          & \\le & 950\\\\\n",
    "           &          &   & 0.219x_d & \\le & 1,750\\\\\n",
    "           & 0.175x_e &   &          & \\le & 840\\\\\n",
    "           &          &   & 0.156x_d & \\le & 1,100\\\\\n",
    "           & x_e      & + & x_d      & \\le & 10,000\\\\\n",
    "           & x_e      & + & x_d      & \\le & 32,000\\\\\n",
    "           &          &   & x_d      & \\le & 20,000\\\\\n",
    "           &          &   & x_e,x_d  & \\ge & 0\\\\\n",
    "\\end{array}\n",
    "\\end{equation*}\n"
   ]
  },
  {
   "cell_type": "markdown",
   "id": "2cb0b4d8-ee5f-40a6-b7d7-b698b694aa82",
   "metadata": {},
   "source": [
    "## References:\n",
    "- [Pencil Production Problem](https://github.com/BrockSkaggs/GrokWithBrock/blob/main/Linear%20Programming/Pencil%20Production/pencil_prod_problem.md)\n",
    "- [Pyomo](http://www.pyomo.org/)\n",
    "- [GLPK (GNU Linear Programming Kit)](https://www.gnu.org/software/glpk/)"
   ]
  },
  {
   "cell_type": "markdown",
   "id": "e6baa6bf-06e8-463a-a124-12c8137862b7",
   "metadata": {},
   "source": [
    "## Model Solution Development"
   ]
  },
  {
   "cell_type": "code",
   "execution_count": 17,
   "id": "b45f7a82-5914-40ac-bcbe-968faac95ec5",
   "metadata": {},
   "outputs": [],
   "source": [
    "import pyomo.opt as po\n",
    "import pyomo.environ as pe"
   ]
  },
  {
   "cell_type": "code",
   "execution_count": 18,
   "id": "8569ce67-5054-486a-93a8-65a64ffbe883",
   "metadata": {},
   "outputs": [],
   "source": [
    "model = pe.ConcreteModel(name='Pencil Production')"
   ]
  },
  {
   "cell_type": "code",
   "execution_count": 19,
   "id": "cd8a38ae-71d2-4c15-97a1-7de471e0398a",
   "metadata": {},
   "outputs": [],
   "source": [
    "model.x_econ = pe.Var(domain = pe.NonNegativeReals)\n",
    "model.x_del = pe.Var(domain = pe.NonNegativeReals)"
   ]
  },
  {
   "cell_type": "code",
   "execution_count": 20,
   "id": "038f319b-10a1-4d84-8d19-877995b14a32",
   "metadata": {},
   "outputs": [],
   "source": [
    "obj_expr = 0.41*model.x_econ + 0.84*model.x_del\n",
    "model.obj = pe.Objective(sense=pe.maximize, expr=obj_expr)"
   ]
  },
  {
   "cell_type": "code",
   "execution_count": 21,
   "id": "aa8cb2a5-4d7b-4f4a-b314-07c4e7807753",
   "metadata": {},
   "outputs": [],
   "source": [
    "model.preprocessing = pe.Constraint(expr = (2/3600)*model.x_econ + (2/3600)*model.x_del <= 12)\n",
    "model.curing = pe.Constraint(expr = (3.5/3600)*model.x_econ + (3.5/3600)*model.x_del <= 8.25)\n",
    "model.shaping = pe.Constraint(expr = (1.25/3600)*model.x_econ + (8.75/3600)*model.x_del <= 13)\n",
    "model.asbly = pe.Constraint(expr = (8/3600)*model.x_econ + (10/3600)*model.x_del <= 18)"
   ]
  },
  {
   "cell_type": "code",
   "execution_count": 22,
   "id": "3e7f26c5-0d99-40b3-b91d-541f51a4a32e",
   "metadata": {},
   "outputs": [],
   "source": [
    "model.blank = pe.Constraint(expr = 0.1*model.x_econ + 0.1*model.x_del <= 15000)\n",
    "model.glue = pe.Constraint(expr = (1.5/16)*model.x_econ + (1.5/16)*model.x_del <= 1250)\n",
    "model.basic_lead = pe.Constraint(expr = (3/16)*model.x_econ <= 950)\n",
    "model.smooth_lead = pe.Constraint(expr = (3.5/16)*model.x_del <= 1750)\n",
    "model.matte_paint = pe.Constraint(expr = (2.8/16)*model.x_econ <= 840)\n",
    "model.wood_stain = pe.Constraint(expr = (2.5/16)*model.x_del <= 1100)\n",
    "model.ferrule = pe.Constraint(expr = model.x_econ + model.x_del <= 10000)\n",
    "model.eraser = pe.Constraint(expr = model.x_econ + model.x_del <= 32000)\n",
    "model.grip = pe.Constraint(expr = model.x_del <= 20000)"
   ]
  },
  {
   "cell_type": "code",
   "execution_count": 23,
   "id": "756ffed0-7e72-4b02-a5c3-3b139a3ec33f",
   "metadata": {},
   "outputs": [],
   "source": [
    "solver = po.SolverFactory('glpk')"
   ]
  },
  {
   "cell_type": "code",
   "execution_count": 24,
   "id": "cd13c7ab-bdca-4759-bc8d-2c8395d96b53",
   "metadata": {},
   "outputs": [
    {
     "name": "stdout",
     "output_type": "stream",
     "text": [
      "GLPSOL: GLPK LP/MIP Solver, v4.65\n",
      "Parameter(s) specified in the command line:\n",
      " --write C:\\Users\\brock\\AppData\\Local\\Temp\\tmpnqpjxjkq.glpk.raw --wglp C:\\Users\\brock\\AppData\\Local\\Temp\\tmp2kk52a_1.glpk.glp\n",
      " --cpxlp C:\\Users\\brock\\AppData\\Local\\Temp\\tmpunjpt5_k.pyomo.lp\n",
      "Reading problem data from 'C:\\Users\\brock\\AppData\\Local\\Temp\\tmpunjpt5_k.pyomo.lp'...\n",
      "14 rows, 3 columns, 22 non-zeros\n",
      "76 lines were read\n",
      "Writing problem data to 'C:\\Users\\brock\\AppData\\Local\\Temp\\tmp2kk52a_1.glpk.glp'...\n",
      "58 lines were written\n",
      "GLPK Simplex Optimizer, v4.65\n",
      "14 rows, 3 columns, 22 non-zeros\n",
      "Preprocessing...\n",
      "4 rows, 2 columns, 8 non-zeros\n",
      "Scaling...\n",
      " A: min|aij| =  3.472e-04  max|aij| =  1.000e+00  ratio =  2.880e+03\n",
      "GM: min|aij| =  6.148e-01  max|aij| =  1.627e+00  ratio =  2.646e+00\n",
      "EQ: min|aij| =  3.780e-01  max|aij| =  1.000e+00  ratio =  2.646e+00\n",
      "Constructing initial basis...\n",
      "Size of triangular part is 4\n",
      "*     0: obj =  -0.000000000e+00 inf =   0.000e+00 (2)\n",
      "*     3: obj =   4.992104348e+03 inf =   0.000e+00 (0)\n",
      "OPTIMAL LP SOLUTION FOUND\n",
      "Time used:   0.0 secs\n",
      "Memory used: 0.0 Mb (40436 bytes)\n",
      "Writing basic solution to 'C:\\Users\\brock\\AppData\\Local\\Temp\\tmpnqpjxjkq.glpk.raw'...\n",
      "26 lines were written\n"
     ]
    }
   ],
   "source": [
    "results = solver.solve(model, tee=True)"
   ]
  },
  {
   "cell_type": "code",
   "execution_count": 25,
   "id": "231fb220-359f-4bf1-985a-e2ad136eae66",
   "metadata": {},
   "outputs": [
    {
     "name": "stdout",
     "output_type": "stream",
     "text": [
      "Model Pencil Production\n",
      "\n",
      "  Variables:\n",
      "    x_econ : Size=1, Index=None\n",
      "        Key  : Lower : Value            : Upper : Fixed : Stale : Domain\n",
      "        None :     0 : 1721.73913043478 :  None : False : False : NonNegativeReals\n",
      "    x_del : Size=1, Index=None\n",
      "        Key  : Lower : Value            : Upper : Fixed : Stale : Domain\n",
      "        None :     0 : 5102.60869565217 :  None : False : False : NonNegativeReals\n",
      "\n",
      "  Objectives:\n",
      "    obj : Size=1, Index=None, Active=True\n",
      "        Key  : Active : Value\n",
      "        None :   True : 4992.104347826083\n",
      "\n",
      "  Constraints:\n",
      "    preprocessing : Size=1\n",
      "        Key  : Lower : Body               : Upper\n",
      "        None :  None : 3.7913043478260833 :  12.0\n",
      "    curing : Size=1\n",
      "        Key  : Lower : Body              : Upper\n",
      "        None :  None : 6.634782608695645 :  8.25\n",
      "    shaping : Size=1\n",
      "        Key  : Lower : Body               : Upper\n",
      "        None :  None : 12.999999999999991 :  13.0\n",
      "    asbly : Size=1\n",
      "        Key  : Lower : Body               : Upper\n",
      "        None :  None : 17.999999999999986 :  18.0\n",
      "    blank : Size=1\n",
      "        Key  : Lower : Body              : Upper\n",
      "        None :  None : 682.4347826086951 : 15000.0\n",
      "    glue : Size=1\n",
      "        Key  : Lower : Body              : Upper\n",
      "        None :  None : 639.7826086956516 : 1250.0\n",
      "    basic_lead : Size=1\n",
      "        Key  : Lower : Body               : Upper\n",
      "        None :  None : 322.82608695652124 : 950.0\n",
      "    smooth_lead : Size=1\n",
      "        Key  : Lower : Body               : Upper\n",
      "        None :  None : 1116.1956521739123 : 1750.0\n",
      "    matte_paint : Size=1\n",
      "        Key  : Lower : Body              : Upper\n",
      "        None :  None : 301.3043478260865 : 840.0\n",
      "    wood_stain : Size=1\n",
      "        Key  : Lower : Body              : Upper\n",
      "        None :  None : 797.2826086956516 : 1100.0\n",
      "    ferrule : Size=1\n",
      "        Key  : Lower : Body              : Upper\n",
      "        None :  None : 6824.347826086951 : 10000.0\n",
      "    eraser : Size=1\n",
      "        Key  : Lower : Body              : Upper\n",
      "        None :  None : 6824.347826086951 : 32000.0\n",
      "    grip : Size=1\n",
      "        Key  : Lower : Body             : Upper\n",
      "        None :  None : 5102.60869565217 : 20000.0\n"
     ]
    }
   ],
   "source": [
    "model.display()"
   ]
  },
  {
   "cell_type": "code",
   "execution_count": 26,
   "id": "a9804442-2f9e-46dd-ace8-21255fdf383b",
   "metadata": {},
   "outputs": [
    {
     "name": "stdout",
     "output_type": "stream",
     "text": [
      "2 Var Declarations\n",
      "    x_del : Size=1, Index=None\n",
      "        Key  : Lower : Value            : Upper : Fixed : Stale : Domain\n",
      "        None :     0 : 5102.60869565217 :  None : False : False : NonNegativeReals\n",
      "    x_econ : Size=1, Index=None\n",
      "        Key  : Lower : Value            : Upper : Fixed : Stale : Domain\n",
      "        None :     0 : 1721.73913043478 :  None : False : False : NonNegativeReals\n",
      "\n",
      "1 Objective Declarations\n",
      "    obj : Size=1, Index=None, Active=True\n",
      "        Key  : Active : Sense    : Expression\n",
      "        None :   True : maximize : 0.41*x_econ + 0.84*x_del\n",
      "\n",
      "13 Constraint Declarations\n",
      "    asbly : Size=1, Index=None, Active=True\n",
      "        Key  : Lower : Body                                                      : Upper : Active\n",
      "        None :  -Inf : 0.0022222222222222222*x_econ + 0.002777777777777778*x_del :  18.0 :   True\n",
      "    basic_lead : Size=1, Index=None, Active=True\n",
      "        Key  : Lower : Body          : Upper : Active\n",
      "        None :  -Inf : 0.1875*x_econ : 950.0 :   True\n",
      "    blank : Size=1, Index=None, Active=True\n",
      "        Key  : Lower : Body                   : Upper   : Active\n",
      "        None :  -Inf : 0.1*x_econ + 0.1*x_del : 15000.0 :   True\n",
      "    curing : Size=1, Index=None, Active=True\n",
      "        Key  : Lower : Body                                                       : Upper : Active\n",
      "        None :  -Inf : 0.0009722222222222222*x_econ + 0.0009722222222222222*x_del :  8.25 :   True\n",
      "    eraser : Size=1, Index=None, Active=True\n",
      "        Key  : Lower : Body           : Upper   : Active\n",
      "        None :  -Inf : x_econ + x_del : 32000.0 :   True\n",
      "    ferrule : Size=1, Index=None, Active=True\n",
      "        Key  : Lower : Body           : Upper   : Active\n",
      "        None :  -Inf : x_econ + x_del : 10000.0 :   True\n",
      "    glue : Size=1, Index=None, Active=True\n",
      "        Key  : Lower : Body                           : Upper  : Active\n",
      "        None :  -Inf : 0.09375*x_econ + 0.09375*x_del : 1250.0 :   True\n",
      "    grip : Size=1, Index=None, Active=True\n",
      "        Key  : Lower : Body  : Upper   : Active\n",
      "        None :  -Inf : x_del : 20000.0 :   True\n",
      "    matte_paint : Size=1, Index=None, Active=True\n",
      "        Key  : Lower : Body         : Upper : Active\n",
      "        None :  -Inf : 0.175*x_econ : 840.0 :   True\n",
      "    preprocessing : Size=1, Index=None, Active=True\n",
      "        Key  : Lower : Body                                                       : Upper : Active\n",
      "        None :  -Inf : 0.0005555555555555556*x_econ + 0.0005555555555555556*x_del :  12.0 :   True\n",
      "    shaping : Size=1, Index=None, Active=True\n",
      "        Key  : Lower : Body                                                        : Upper : Active\n",
      "        None :  -Inf : 0.00034722222222222224*x_econ + 0.0024305555555555556*x_del :  13.0 :   True\n",
      "    smooth_lead : Size=1, Index=None, Active=True\n",
      "        Key  : Lower : Body          : Upper  : Active\n",
      "        None :  -Inf : 0.21875*x_del : 1750.0 :   True\n",
      "    wood_stain : Size=1, Index=None, Active=True\n",
      "        Key  : Lower : Body          : Upper  : Active\n",
      "        None :  -Inf : 0.15625*x_del : 1100.0 :   True\n",
      "\n",
      "16 Declarations: x_econ x_del obj preprocessing curing shaping asbly blank glue basic_lead smooth_lead matte_paint wood_stain ferrule eraser grip\n"
     ]
    }
   ],
   "source": [
    "model.pprint()"
   ]
  },
  {
   "cell_type": "code",
   "execution_count": 28,
   "id": "b8f06f67-a598-4959-ace3-d7f01293087e",
   "metadata": {},
   "outputs": [
    {
     "name": "stdout",
     "output_type": "stream",
     "text": [
      "Qty. Economy Pencils: 1,721.74\n"
     ]
    }
   ],
   "source": [
    "qty_economy_pencils = pe.value(model.x_econ)\n",
    "print(f\"Qty. Economy Pencils: {qty_economy_pencils:,.2f}\")"
   ]
  },
  {
   "cell_type": "code",
   "execution_count": null,
   "id": "fd46bfcf-108c-4c1b-91f8-d6fbf74aa4cf",
   "metadata": {},
   "outputs": [],
   "source": []
  }
 ],
 "metadata": {
  "kernelspec": {
   "display_name": "Python 3 (ipykernel)",
   "language": "python",
   "name": "python3"
  },
  "language_info": {
   "codemirror_mode": {
    "name": "ipython",
    "version": 3
   },
   "file_extension": ".py",
   "mimetype": "text/x-python",
   "name": "python",
   "nbconvert_exporter": "python",
   "pygments_lexer": "ipython3",
   "version": "3.8.7"
  }
 },
 "nbformat": 4,
 "nbformat_minor": 5
}
