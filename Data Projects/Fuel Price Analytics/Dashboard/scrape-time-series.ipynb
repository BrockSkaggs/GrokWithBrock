{
 "cells": [
  {
   "cell_type": "code",
   "execution_count": 45,
   "id": "automatic-indie",
   "metadata": {},
   "outputs": [
    {
     "data": {
      "text/html": [
       "        <script type=\"text/javascript\">\n",
       "        window.PlotlyConfig = {MathJaxConfig: 'local'};\n",
       "        if (window.MathJax && window.MathJax.Hub && window.MathJax.Hub.Config) {window.MathJax.Hub.Config({SVG: {font: \"STIX-Web\"}});}\n",
       "        if (typeof require !== 'undefined') {\n",
       "        require.undef(\"plotly\");\n",
       "        requirejs.config({\n",
       "            paths: {\n",
       "                'plotly': ['https://cdn.plot.ly/plotly-2.16.1.min']\n",
       "            }\n",
       "        });\n",
       "        require(['plotly'], function(Plotly) {\n",
       "            window._Plotly = Plotly;\n",
       "        });\n",
       "        }\n",
       "        </script>\n",
       "        "
      ]
     },
     "metadata": {},
     "output_type": "display_data"
    }
   ],
   "source": [
    "import datetime as dt\n",
    "import numpy as np\n",
    "import pandas as pd\n",
    "\n",
    "\n",
    "from plotly.offline import init_notebook_mode, iplot\n",
    "import plotly.graph_objs as go\n",
    "\n",
    "init_notebook_mode(connected=True)"
   ]
  },
  {
   "cell_type": "code",
   "execution_count": 53,
   "id": "unavailable-bracelet",
   "metadata": {},
   "outputs": [
    {
     "data": {
      "text/html": [
       "<div>\n",
       "<style scoped>\n",
       "    .dataframe tbody tr th:only-of-type {\n",
       "        vertical-align: middle;\n",
       "    }\n",
       "\n",
       "    .dataframe tbody tr th {\n",
       "        vertical-align: top;\n",
       "    }\n",
       "\n",
       "    .dataframe thead th {\n",
       "        text-align: right;\n",
       "    }\n",
       "</style>\n",
       "<table border=\"1\" class=\"dataframe\">\n",
       "  <thead>\n",
       "    <tr style=\"text-align: right;\">\n",
       "      <th></th>\n",
       "      <th>ScrapeTime</th>\n",
       "      <th>CardPos</th>\n",
       "      <th>FuelType</th>\n",
       "      <th>Station</th>\n",
       "      <th>Address</th>\n",
       "      <th>RawPrice</th>\n",
       "      <th>CondPrice</th>\n",
       "      <th>ScrapeDate</th>\n",
       "      <th>StationAddress</th>\n",
       "      <th>CondCardPos</th>\n",
       "      <th>PriceDelta</th>\n",
       "    </tr>\n",
       "  </thead>\n",
       "  <tbody>\n",
       "    <tr>\n",
       "      <th>24</th>\n",
       "      <td>2024-04-02 11:30:13</td>\n",
       "      <td>5</td>\n",
       "      <td>regular</td>\n",
       "      <td>Murphy USA</td>\n",
       "      <td>2635 Grand Ave|Carthage, MO</td>\n",
       "      <td>$3.02</td>\n",
       "      <td>3.02</td>\n",
       "      <td>2024-04-02</td>\n",
       "      <td>Murphy USA - 2635 Grand Ave|Carthage, MO</td>\n",
       "      <td>0</td>\n",
       "      <td>0.00</td>\n",
       "    </tr>\n",
       "    <tr>\n",
       "      <th>25</th>\n",
       "      <td>2024-04-02 11:30:13</td>\n",
       "      <td>6</td>\n",
       "      <td>regular</td>\n",
       "      <td>Phillips 66</td>\n",
       "      <td>2812 Hazel St|Carthage, MO</td>\n",
       "      <td>$3.06</td>\n",
       "      <td>3.06</td>\n",
       "      <td>2024-04-02</td>\n",
       "      <td>Phillips 66 - 2812 Hazel St|Carthage, MO</td>\n",
       "      <td>1</td>\n",
       "      <td>0.04</td>\n",
       "    </tr>\n",
       "    <tr>\n",
       "      <th>26</th>\n",
       "      <td>2024-04-02 11:30:13</td>\n",
       "      <td>7</td>\n",
       "      <td>regular</td>\n",
       "      <td>Casey's</td>\n",
       "      <td>2214 Fairlawn Ave|Carthage, MO</td>\n",
       "      <td>$3.19</td>\n",
       "      <td>3.19</td>\n",
       "      <td>2024-04-02</td>\n",
       "      <td>Casey's - 2214 Fairlawn Ave|Carthage, MO</td>\n",
       "      <td>2</td>\n",
       "      <td>0.17</td>\n",
       "    </tr>\n",
       "    <tr>\n",
       "      <th>27</th>\n",
       "      <td>2024-04-02 11:30:13</td>\n",
       "      <td>8</td>\n",
       "      <td>regular</td>\n",
       "      <td>Casey's</td>\n",
       "      <td>917 W Central Ave|Carthage, MO</td>\n",
       "      <td>$3.19</td>\n",
       "      <td>3.19</td>\n",
       "      <td>2024-04-02</td>\n",
       "      <td>Casey's - 917 W Central Ave|Carthage, MO</td>\n",
       "      <td>3</td>\n",
       "      <td>0.17</td>\n",
       "    </tr>\n",
       "    <tr>\n",
       "      <th>28</th>\n",
       "      <td>2024-04-02 11:30:13</td>\n",
       "      <td>9</td>\n",
       "      <td>regular</td>\n",
       "      <td>Flyin W</td>\n",
       "      <td>13011 MO-96|Carthage, MO</td>\n",
       "      <td>$3.19</td>\n",
       "      <td>3.19</td>\n",
       "      <td>2024-04-02</td>\n",
       "      <td>Flyin W - 13011 MO-96|Carthage, MO</td>\n",
       "      <td>4</td>\n",
       "      <td>0.17</td>\n",
       "    </tr>\n",
       "    <tr>\n",
       "      <th>...</th>\n",
       "      <td>...</td>\n",
       "      <td>...</td>\n",
       "      <td>...</td>\n",
       "      <td>...</td>\n",
       "      <td>...</td>\n",
       "      <td>...</td>\n",
       "      <td>...</td>\n",
       "      <td>...</td>\n",
       "      <td>...</td>\n",
       "      <td>...</td>\n",
       "      <td>...</td>\n",
       "    </tr>\n",
       "    <tr>\n",
       "      <th>702</th>\n",
       "      <td>2024-05-01 11:30:12</td>\n",
       "      <td>6</td>\n",
       "      <td>diesel</td>\n",
       "      <td>The Corner</td>\n",
       "      <td>824 E Fairview Ave|Carthage, MO</td>\n",
       "      <td>$3.69</td>\n",
       "      <td>3.69</td>\n",
       "      <td>2024-05-01</td>\n",
       "      <td>The Corner - 824 E Fairview Ave|Carthage, MO</td>\n",
       "      <td>2</td>\n",
       "      <td>0.00</td>\n",
       "    </tr>\n",
       "    <tr>\n",
       "      <th>703</th>\n",
       "      <td>2024-05-01 11:30:12</td>\n",
       "      <td>7</td>\n",
       "      <td>diesel</td>\n",
       "      <td>Phillips 66</td>\n",
       "      <td>201 E Central Ave|Carthage, MO</td>\n",
       "      <td>$3.69</td>\n",
       "      <td>3.69</td>\n",
       "      <td>2024-05-01</td>\n",
       "      <td>Phillips 66 - 201 E Central Ave|Carthage, MO</td>\n",
       "      <td>3</td>\n",
       "      <td>0.00</td>\n",
       "    </tr>\n",
       "    <tr>\n",
       "      <th>707</th>\n",
       "      <td>2024-05-01 11:30:12</td>\n",
       "      <td>4</td>\n",
       "      <td>premium</td>\n",
       "      <td>Murphy USA</td>\n",
       "      <td>2635 Grand Ave|Carthage, MO</td>\n",
       "      <td>$3.63</td>\n",
       "      <td>3.63</td>\n",
       "      <td>2024-05-01</td>\n",
       "      <td>Murphy USA - 2635 Grand Ave|Carthage, MO</td>\n",
       "      <td>0</td>\n",
       "      <td>0.00</td>\n",
       "    </tr>\n",
       "    <tr>\n",
       "      <th>708</th>\n",
       "      <td>2024-05-01 11:30:12</td>\n",
       "      <td>5</td>\n",
       "      <td>premium</td>\n",
       "      <td>Phillips 66</td>\n",
       "      <td>201 E Central Ave|Carthage, MO</td>\n",
       "      <td>$3.89</td>\n",
       "      <td>3.89</td>\n",
       "      <td>2024-05-01</td>\n",
       "      <td>Phillips 66 - 201 E Central Ave|Carthage, MO</td>\n",
       "      <td>1</td>\n",
       "      <td>0.26</td>\n",
       "    </tr>\n",
       "    <tr>\n",
       "      <th>709</th>\n",
       "      <td>2024-05-01 11:30:12</td>\n",
       "      <td>6</td>\n",
       "      <td>premium</td>\n",
       "      <td>Casey's</td>\n",
       "      <td>917 W Central Ave|Carthage, MO</td>\n",
       "      <td>$3.94</td>\n",
       "      <td>3.94</td>\n",
       "      <td>2024-05-01</td>\n",
       "      <td>Casey's - 917 W Central Ave|Carthage, MO</td>\n",
       "      <td>2</td>\n",
       "      <td>0.31</td>\n",
       "    </tr>\n",
       "  </tbody>\n",
       "</table>\n",
       "<p>466 rows × 11 columns</p>\n",
       "</div>"
      ],
      "text/plain": [
       "             ScrapeTime  CardPos FuelType      Station  \\\n",
       "24  2024-04-02 11:30:13        5  regular   Murphy USA   \n",
       "25  2024-04-02 11:30:13        6  regular  Phillips 66   \n",
       "26  2024-04-02 11:30:13        7  regular      Casey's   \n",
       "27  2024-04-02 11:30:13        8  regular      Casey's   \n",
       "28  2024-04-02 11:30:13        9  regular      Flyin W   \n",
       "..                  ...      ...      ...          ...   \n",
       "702 2024-05-01 11:30:12        6   diesel   The Corner   \n",
       "703 2024-05-01 11:30:12        7   diesel  Phillips 66   \n",
       "707 2024-05-01 11:30:12        4  premium   Murphy USA   \n",
       "708 2024-05-01 11:30:12        5  premium  Phillips 66   \n",
       "709 2024-05-01 11:30:12        6  premium      Casey's   \n",
       "\n",
       "                             Address RawPrice  CondPrice  ScrapeDate  \\\n",
       "24       2635 Grand Ave|Carthage, MO    $3.02       3.02  2024-04-02   \n",
       "25        2812 Hazel St|Carthage, MO    $3.06       3.06  2024-04-02   \n",
       "26    2214 Fairlawn Ave|Carthage, MO    $3.19       3.19  2024-04-02   \n",
       "27    917 W Central Ave|Carthage, MO    $3.19       3.19  2024-04-02   \n",
       "28          13011 MO-96|Carthage, MO    $3.19       3.19  2024-04-02   \n",
       "..                               ...      ...        ...         ...   \n",
       "702  824 E Fairview Ave|Carthage, MO    $3.69       3.69  2024-05-01   \n",
       "703   201 E Central Ave|Carthage, MO    $3.69       3.69  2024-05-01   \n",
       "707      2635 Grand Ave|Carthage, MO    $3.63       3.63  2024-05-01   \n",
       "708   201 E Central Ave|Carthage, MO    $3.89       3.89  2024-05-01   \n",
       "709   917 W Central Ave|Carthage, MO    $3.94       3.94  2024-05-01   \n",
       "\n",
       "                                   StationAddress  CondCardPos  PriceDelta  \n",
       "24       Murphy USA - 2635 Grand Ave|Carthage, MO            0        0.00  \n",
       "25       Phillips 66 - 2812 Hazel St|Carthage, MO            1        0.04  \n",
       "26       Casey's - 2214 Fairlawn Ave|Carthage, MO            2        0.17  \n",
       "27       Casey's - 917 W Central Ave|Carthage, MO            3        0.17  \n",
       "28             Flyin W - 13011 MO-96|Carthage, MO            4        0.17  \n",
       "..                                            ...          ...         ...  \n",
       "702  The Corner - 824 E Fairview Ave|Carthage, MO            2        0.00  \n",
       "703  Phillips 66 - 201 E Central Ave|Carthage, MO            3        0.00  \n",
       "707      Murphy USA - 2635 Grand Ave|Carthage, MO            0        0.00  \n",
       "708  Phillips 66 - 201 E Central Ave|Carthage, MO            1        0.26  \n",
       "709      Casey's - 917 W Central Ave|Carthage, MO            2        0.31  \n",
       "\n",
       "[466 rows x 11 columns]"
      ]
     },
     "execution_count": 53,
     "metadata": {},
     "output_type": "execute_result"
    }
   ],
   "source": [
    "def get_data() -> pd.DataFrame:\n",
    "    col_names = ['ScrapeTime','CardPos','FuelType','Station','Address','RawPrice','CondPrice']\n",
    "    start_date = dt.date(2024, 4, 2)\n",
    "    df = pd.read_csv('gas-scrape-data.csv', names=col_names, parse_dates=['ScrapeTime'])\n",
    "    df['ScrapeDate'] = df['ScrapeTime'].dt.date\n",
    "    df['StationAddress'] = df['Station'] + ' - ' + df['Address']\n",
    "    return df[(~df['CondPrice'].isna()) & (df['ScrapeDate'] >= start_date)].copy()\n",
    "\n",
    "def condition_data(df: pd.DataFrame):\n",
    "    dates = df['ScrapeDate'].unique()\n",
    "    fuel_types = df['FuelType'].unique()\n",
    "    cond_pos = {}\n",
    "    price_delta = {}\n",
    "    for date in dates:\n",
    "        for f_type in fuel_types:\n",
    "            dff = df[(df['ScrapeDate'] == date) & (df['FuelType'] == f_type)].copy()\n",
    "            min_pos = dff['CardPos'].min()\n",
    "            min_price = dff['CondPrice'].min()\n",
    "            f_type_cond_pos = dff['CardPos'] - min_pos\n",
    "            f_type_delta_price = dff['CondPrice'] - min_price\n",
    "            cond_pos.update(f_type_cond_pos)\n",
    "            price_delta.update(f_type_delta_price)\n",
    "    df['CondCardPos'] = df.index.map(cond_pos)\n",
    "    df['PriceDelta'] = df.index.map(price_delta)\n",
    "    \n",
    "def get_condition_data() -> pd.DataFrame:\n",
    "    df = get_data()\n",
    "    condition_data(df)\n",
    "    return df\n",
    "\n",
    "df = get_condition_data()\n",
    "df"
   ]
  },
  {
   "cell_type": "markdown",
   "id": "dd64f0d7-a24a-4ad3-9f5b-81ce12a255b1",
   "metadata": {},
   "source": [
    "## Time Series of Lowest Fuel Price"
   ]
  },
  {
   "cell_type": "code",
   "execution_count": 47,
   "id": "activated-sweden",
   "metadata": {},
   "outputs": [],
   "source": [
    "def get_time_series_by_type_pos(df: pd.DataFrame, fuel_type: str, cond_pos=0) -> go.Scatter:\n",
    "    dff = df[(df['FuelType'] == fuel_type) & (df['CondCardPos'] == 0)].copy()\n",
    "    hover = '<b>Date: </b>' + dff['ScrapeTime'].dt.strftime('%m/%d/%Y') + '<br>' + '<b>Cost: </b>' + dff.RawPrice.astype(str) + \\\n",
    "        '<br>' + '<b>Station: </b>' + dff['Station'] + '<br>' + '<b>Address: </b>' + dff['Address'].str.replace('|','<br>', regex=False)\n",
    "    dff['ScrapeTime'] = dff['ScrapeTime'].dt.date\n",
    "    dff.set_index('ScrapeTime', inplace=True)\n",
    "    return go.Scatter(\n",
    "        x=dff.index,\n",
    "        y=dff['CondPrice'],\n",
    "        name=fuel_type,\n",
    "        hovertemplate=hover\n",
    "    )"
   ]
  },
  {
   "cell_type": "code",
   "execution_count": 48,
   "id": "brief-lobby",
   "metadata": {},
   "outputs": [
    {
     "data": {
      "application/vnd.plotly.v1+json": {
       "config": {
        "linkText": "Export to plot.ly",
        "plotlyServerURL": "https://plot.ly",
        "showLink": false
       },
       "data": [
        {
         "hovertemplate": [
          "<b>Date: </b>04/02/2024<br><b>Cost: </b>$3.02<br><b>Station: </b>Murphy USA<br><b>Address: </b>2635 Grand Ave<br>Carthage, MO",
          "<b>Date: </b>04/03/2024<br><b>Cost: </b>$3.09<br><b>Station: </b>The Corner<br><b>Address: </b>824 E Fairview Ave<br>Carthage, MO",
          "<b>Date: </b>04/04/2024<br><b>Cost: </b>$3.15<br><b>Station: </b>Murphy USA<br><b>Address: </b>2635 Grand Ave<br>Carthage, MO",
          "<b>Date: </b>04/05/2024<br><b>Cost: </b>$3.12<br><b>Station: </b>Murphy USA<br><b>Address: </b>2635 Grand Ave<br>Carthage, MO",
          "<b>Date: </b>04/06/2024<br><b>Cost: </b>$3.09<br><b>Station: </b>Murphy USA<br><b>Address: </b>2635 Grand Ave<br>Carthage, MO",
          "<b>Date: </b>04/07/2024<br><b>Cost: </b>$3.09<br><b>Station: </b>Murphy USA<br><b>Address: </b>2635 Grand Ave<br>Carthage, MO",
          "<b>Date: </b>04/08/2024<br><b>Cost: </b>$3.04<br><b>Station: </b>Murphy USA<br><b>Address: </b>2635 Grand Ave<br>Carthage, MO",
          "<b>Date: </b>04/09/2024<br><b>Cost: </b>$3.10<br><b>Station: </b>Phillips 66<br><b>Address: </b>2812 Hazel St<br>Carthage, MO",
          "<b>Date: </b>04/10/2024<br><b>Cost: </b>$3.10<br><b>Station: </b>Phillips 66<br><b>Address: </b>2812 Hazel St<br>Carthage, MO",
          "<b>Date: </b>04/11/2024<br><b>Cost: </b>$3.10<br><b>Station: </b>Phillips 66<br><b>Address: </b>2812 Hazel St<br>Carthage, MO",
          "<b>Date: </b>04/12/2024<br><b>Cost: </b>$3.23<br><b>Station: </b>Murphy USA<br><b>Address: </b>2635 Grand Ave<br>Carthage, MO",
          "<b>Date: </b>04/13/2024<br><b>Cost: </b>$3.23<br><b>Station: </b>Murphy USA<br><b>Address: </b>2635 Grand Ave<br>Carthage, MO",
          "<b>Date: </b>04/14/2024<br><b>Cost: </b>$3.23<br><b>Station: </b>Murphy USA<br><b>Address: </b>2635 Grand Ave<br>Carthage, MO",
          "<b>Date: </b>04/15/2024<br><b>Cost: </b>$3.19<br><b>Station: </b>Murphy USA<br><b>Address: </b>2635 Grand Ave<br>Carthage, MO",
          "<b>Date: </b>04/16/2024<br><b>Cost: </b>$3.19<br><b>Station: </b>Murphy USA<br><b>Address: </b>2635 Grand Ave<br>Carthage, MO",
          "<b>Date: </b>04/17/2024<br><b>Cost: </b>$3.15<br><b>Station: </b>Murphy USA<br><b>Address: </b>2635 Grand Ave<br>Carthage, MO",
          "<b>Date: </b>04/18/2024<br><b>Cost: </b>$3.11<br><b>Station: </b>Murphy USA<br><b>Address: </b>2635 Grand Ave<br>Carthage, MO",
          "<b>Date: </b>04/19/2024<br><b>Cost: </b>$3.11<br><b>Station: </b>Murphy USA<br><b>Address: </b>2635 Grand Ave<br>Carthage, MO",
          "<b>Date: </b>04/20/2024<br><b>Cost: </b>$3.11<br><b>Station: </b>Murphy USA<br><b>Address: </b>2635 Grand Ave<br>Carthage, MO",
          "<b>Date: </b>04/21/2024<br><b>Cost: </b>$3.09<br><b>Station: </b>Murphy USA<br><b>Address: </b>2635 Grand Ave<br>Carthage, MO",
          "<b>Date: </b>04/22/2024<br><b>Cost: </b>$3.04<br><b>Station: </b>Murphy USA<br><b>Address: </b>2635 Grand Ave<br>Carthage, MO",
          "<b>Date: </b>04/23/2024<br><b>Cost: </b>$3.03<br><b>Station: </b>Murphy USA<br><b>Address: </b>2635 Grand Ave<br>Carthage, MO",
          "<b>Date: </b>04/24/2024<br><b>Cost: </b>$3.03<br><b>Station: </b>Murphy USA<br><b>Address: </b>2635 Grand Ave<br>Carthage, MO",
          "<b>Date: </b>04/25/2024<br><b>Cost: </b>$3.03<br><b>Station: </b>Murphy USA<br><b>Address: </b>2635 Grand Ave<br>Carthage, MO",
          "<b>Date: </b>04/26/2024<br><b>Cost: </b>$3.03<br><b>Station: </b>Murphy USA<br><b>Address: </b>2635 Grand Ave<br>Carthage, MO",
          "<b>Date: </b>04/27/2024<br><b>Cost: </b>$3.03<br><b>Station: </b>Murphy USA<br><b>Address: </b>2635 Grand Ave<br>Carthage, MO",
          "<b>Date: </b>04/28/2024<br><b>Cost: </b>$3.03<br><b>Station: </b>Murphy USA<br><b>Address: </b>2635 Grand Ave<br>Carthage, MO",
          "<b>Date: </b>04/29/2024<br><b>Cost: </b>$3.03<br><b>Station: </b>Murphy USA<br><b>Address: </b>2635 Grand Ave<br>Carthage, MO",
          "<b>Date: </b>04/30/2024<br><b>Cost: </b>$3.03<br><b>Station: </b>Murphy USA<br><b>Address: </b>2635 Grand Ave<br>Carthage, MO",
          "<b>Date: </b>05/01/2024<br><b>Cost: </b>$3.03<br><b>Station: </b>Murphy USA<br><b>Address: </b>2635 Grand Ave<br>Carthage, MO"
         ],
         "name": "regular",
         "type": "scatter",
         "x": [
          "2024-04-02",
          "2024-04-03",
          "2024-04-04",
          "2024-04-05",
          "2024-04-06",
          "2024-04-07",
          "2024-04-08",
          "2024-04-09",
          "2024-04-10",
          "2024-04-11",
          "2024-04-12",
          "2024-04-13",
          "2024-04-14",
          "2024-04-15",
          "2024-04-16",
          "2024-04-17",
          "2024-04-18",
          "2024-04-19",
          "2024-04-20",
          "2024-04-21",
          "2024-04-22",
          "2024-04-23",
          "2024-04-24",
          "2024-04-25",
          "2024-04-26",
          "2024-04-27",
          "2024-04-28",
          "2024-04-29",
          "2024-04-30",
          "2024-05-01"
         ],
         "y": [
          3.02,
          3.09,
          3.15,
          3.12,
          3.09,
          3.09,
          3.04,
          3.1,
          3.1,
          3.1,
          3.23,
          3.23,
          3.23,
          3.19,
          3.19,
          3.15,
          3.11,
          3.11,
          3.11,
          3.09,
          3.04,
          3.03,
          3.03,
          3.03,
          3.03,
          3.03,
          3.03,
          3.03,
          3.03,
          3.03
         ]
        },
        {
         "hovertemplate": [
          "<b>Date: </b>04/02/2024<br><b>Cost: </b>$3.69<br><b>Station: </b>Casey's<br><b>Address: </b>2214 Fairlawn Ave<br>Carthage, MO",
          "<b>Date: </b>04/03/2024<br><b>Cost: </b>$3.69<br><b>Station: </b>Casey's<br><b>Address: </b>917 W Central Ave<br>Carthage, MO",
          "<b>Date: </b>04/04/2024<br><b>Cost: </b>$3.69<br><b>Station: </b>Casey's<br><b>Address: </b>917 W Central Ave<br>Carthage, MO",
          "<b>Date: </b>04/05/2024<br><b>Cost: </b>$3.69<br><b>Station: </b>Casey's<br><b>Address: </b>917 W Central Ave<br>Carthage, MO",
          "<b>Date: </b>04/06/2024<br><b>Cost: </b>$3.69<br><b>Station: </b>Casey's<br><b>Address: </b>917 W Central Ave<br>Carthage, MO",
          "<b>Date: </b>04/07/2024<br><b>Cost: </b>$3.69<br><b>Station: </b>Casey's<br><b>Address: </b>917 W Central Ave<br>Carthage, MO",
          "<b>Date: </b>04/08/2024<br><b>Cost: </b>$3.69<br><b>Station: </b>Casey's<br><b>Address: </b>917 W Central Ave<br>Carthage, MO",
          "<b>Date: </b>04/09/2024<br><b>Cost: </b>$3.69<br><b>Station: </b>Casey's<br><b>Address: </b>917 W Central Ave<br>Carthage, MO",
          "<b>Date: </b>04/10/2024<br><b>Cost: </b>$3.69<br><b>Station: </b>Casey's<br><b>Address: </b>917 W Central Ave<br>Carthage, MO",
          "<b>Date: </b>04/11/2024<br><b>Cost: </b>$3.69<br><b>Station: </b>Casey's<br><b>Address: </b>917 W Central Ave<br>Carthage, MO",
          "<b>Date: </b>04/12/2024<br><b>Cost: </b>$3.69<br><b>Station: </b>Casey's<br><b>Address: </b>2214 Fairlawn Ave<br>Carthage, MO",
          "<b>Date: </b>04/13/2024<br><b>Cost: </b>$3.69<br><b>Station: </b>Casey's<br><b>Address: </b>917 W Central Ave<br>Carthage, MO",
          "<b>Date: </b>04/14/2024<br><b>Cost: </b>$3.69<br><b>Station: </b>Casey's<br><b>Address: </b>917 W Central Ave<br>Carthage, MO",
          "<b>Date: </b>04/15/2024<br><b>Cost: </b>$3.69<br><b>Station: </b>Casey's<br><b>Address: </b>917 W Central Ave<br>Carthage, MO",
          "<b>Date: </b>04/16/2024<br><b>Cost: </b>$3.69<br><b>Station: </b>Casey's<br><b>Address: </b>917 W Central Ave<br>Carthage, MO",
          "<b>Date: </b>04/17/2024<br><b>Cost: </b>$3.69<br><b>Station: </b>Casey's<br><b>Address: </b>917 W Central Ave<br>Carthage, MO",
          "<b>Date: </b>04/18/2024<br><b>Cost: </b>$3.69<br><b>Station: </b>Casey's<br><b>Address: </b>917 W Central Ave<br>Carthage, MO",
          "<b>Date: </b>04/19/2024<br><b>Cost: </b>$3.69<br><b>Station: </b>Casey's<br><b>Address: </b>917 W Central Ave<br>Carthage, MO",
          "<b>Date: </b>04/20/2024<br><b>Cost: </b>$3.69<br><b>Station: </b>Casey's<br><b>Address: </b>917 W Central Ave<br>Carthage, MO",
          "<b>Date: </b>04/21/2024<br><b>Cost: </b>$3.59<br><b>Station: </b>The Corner<br><b>Address: </b>824 E Fairview Ave<br>Carthage, MO",
          "<b>Date: </b>04/22/2024<br><b>Cost: </b>$3.59<br><b>Station: </b>The Corner<br><b>Address: </b>824 E Fairview Ave<br>Carthage, MO",
          "<b>Date: </b>04/23/2024<br><b>Cost: </b>$3.69<br><b>Station: </b>Casey's<br><b>Address: </b>917 W Central Ave<br>Carthage, MO",
          "<b>Date: </b>04/24/2024<br><b>Cost: </b>$3.59<br><b>Station: </b>The Corner<br><b>Address: </b>824 E Fairview Ave<br>Carthage, MO",
          "<b>Date: </b>04/25/2024<br><b>Cost: </b>$3.59<br><b>Station: </b>The Corner<br><b>Address: </b>824 E Fairview Ave<br>Carthage, MO",
          "<b>Date: </b>04/26/2024<br><b>Cost: </b>$3.59<br><b>Station: </b>The Corner<br><b>Address: </b>824 E Fairview Ave<br>Carthage, MO",
          "<b>Date: </b>04/27/2024<br><b>Cost: </b>$3.69<br><b>Station: </b>Casey's<br><b>Address: </b>917 W Central Ave<br>Carthage, MO",
          "<b>Date: </b>04/28/2024<br><b>Cost: </b>$3.69<br><b>Station: </b>Casey's<br><b>Address: </b>2214 Fairlawn Ave<br>Carthage, MO",
          "<b>Date: </b>04/29/2024<br><b>Cost: </b>$3.59<br><b>Station: </b>The Corner<br><b>Address: </b>824 E Fairview Ave<br>Carthage, MO",
          "<b>Date: </b>04/30/2024<br><b>Cost: </b>$3.69<br><b>Station: </b>Casey's<br><b>Address: </b>917 W Central Ave<br>Carthage, MO",
          "<b>Date: </b>05/01/2024<br><b>Cost: </b>$3.69<br><b>Station: </b>Casey's<br><b>Address: </b>917 W Central Ave<br>Carthage, MO"
         ],
         "name": "diesel",
         "type": "scatter",
         "x": [
          "2024-04-02",
          "2024-04-03",
          "2024-04-04",
          "2024-04-05",
          "2024-04-06",
          "2024-04-07",
          "2024-04-08",
          "2024-04-09",
          "2024-04-10",
          "2024-04-11",
          "2024-04-12",
          "2024-04-13",
          "2024-04-14",
          "2024-04-15",
          "2024-04-16",
          "2024-04-17",
          "2024-04-18",
          "2024-04-19",
          "2024-04-20",
          "2024-04-21",
          "2024-04-22",
          "2024-04-23",
          "2024-04-24",
          "2024-04-25",
          "2024-04-26",
          "2024-04-27",
          "2024-04-28",
          "2024-04-29",
          "2024-04-30",
          "2024-05-01"
         ],
         "y": [
          3.69,
          3.69,
          3.69,
          3.69,
          3.69,
          3.69,
          3.69,
          3.69,
          3.69,
          3.69,
          3.69,
          3.69,
          3.69,
          3.69,
          3.69,
          3.69,
          3.69,
          3.69,
          3.69,
          3.59,
          3.59,
          3.69,
          3.59,
          3.59,
          3.59,
          3.69,
          3.69,
          3.59,
          3.69,
          3.69
         ]
        },
        {
         "hovertemplate": [
          "<b>Date: </b>04/02/2024<br><b>Cost: </b>$3.62<br><b>Station: </b>Murphy USA<br><b>Address: </b>2635 Grand Ave<br>Carthage, MO",
          "<b>Date: </b>04/03/2024<br><b>Cost: </b>$3.79<br><b>Station: </b>Murphy USA<br><b>Address: </b>2635 Grand Ave<br>Carthage, MO",
          "<b>Date: </b>04/04/2024<br><b>Cost: </b>$4.07<br><b>Station: </b>Phillips 66<br><b>Address: </b>1224 W Central Ave<br>Carthage, MO",
          "<b>Date: </b>04/05/2024<br><b>Cost: </b>$3.72<br><b>Station: </b>Murphy USA<br><b>Address: </b>2635 Grand Ave<br>Carthage, MO",
          "<b>Date: </b>04/06/2024<br><b>Cost: </b>$3.69<br><b>Station: </b>Murphy USA<br><b>Address: </b>2635 Grand Ave<br>Carthage, MO",
          "<b>Date: </b>04/07/2024<br><b>Cost: </b>$3.69<br><b>Station: </b>Murphy USA<br><b>Address: </b>2635 Grand Ave<br>Carthage, MO",
          "<b>Date: </b>04/08/2024<br><b>Cost: </b>$3.64<br><b>Station: </b>Murphy USA<br><b>Address: </b>2635 Grand Ave<br>Carthage, MO",
          "<b>Date: </b>04/09/2024<br><b>Cost: </b>$3.89<br><b>Station: </b>Murphy USA<br><b>Address: </b>2635 Grand Ave<br>Carthage, MO",
          "<b>Date: </b>04/10/2024<br><b>Cost: </b>$3.86<br><b>Station: </b>Murphy USA<br><b>Address: </b>2635 Grand Ave<br>Carthage, MO",
          "<b>Date: </b>04/11/2024<br><b>Cost: </b>$3.86<br><b>Station: </b>Murphy USA<br><b>Address: </b>2635 Grand Ave<br>Carthage, MO",
          "<b>Date: </b>04/12/2024<br><b>Cost: </b>$3.83<br><b>Station: </b>Murphy USA<br><b>Address: </b>2635 Grand Ave<br>Carthage, MO",
          "<b>Date: </b>04/13/2024<br><b>Cost: </b>$3.83<br><b>Station: </b>Murphy USA<br><b>Address: </b>2635 Grand Ave<br>Carthage, MO",
          "<b>Date: </b>04/14/2024<br><b>Cost: </b>$3.83<br><b>Station: </b>Murphy USA<br><b>Address: </b>2635 Grand Ave<br>Carthage, MO",
          "<b>Date: </b>04/15/2024<br><b>Cost: </b>$3.79<br><b>Station: </b>Murphy USA<br><b>Address: </b>2635 Grand Ave<br>Carthage, MO",
          "<b>Date: </b>04/16/2024<br><b>Cost: </b>$3.79<br><b>Station: </b>Murphy USA<br><b>Address: </b>2635 Grand Ave<br>Carthage, MO",
          "<b>Date: </b>04/17/2024<br><b>Cost: </b>$3.75<br><b>Station: </b>Murphy USA<br><b>Address: </b>2635 Grand Ave<br>Carthage, MO",
          "<b>Date: </b>04/18/2024<br><b>Cost: </b>$3.71<br><b>Station: </b>Murphy USA<br><b>Address: </b>2635 Grand Ave<br>Carthage, MO",
          "<b>Date: </b>04/19/2024<br><b>Cost: </b>$3.71<br><b>Station: </b>Murphy USA<br><b>Address: </b>2635 Grand Ave<br>Carthage, MO",
          "<b>Date: </b>04/20/2024<br><b>Cost: </b>$3.71<br><b>Station: </b>Murphy USA<br><b>Address: </b>2635 Grand Ave<br>Carthage, MO",
          "<b>Date: </b>04/21/2024<br><b>Cost: </b>$3.69<br><b>Station: </b>Murphy USA<br><b>Address: </b>2635 Grand Ave<br>Carthage, MO",
          "<b>Date: </b>04/22/2024<br><b>Cost: </b>$3.64<br><b>Station: </b>Murphy USA<br><b>Address: </b>2635 Grand Ave<br>Carthage, MO",
          "<b>Date: </b>04/23/2024<br><b>Cost: </b>$3.63<br><b>Station: </b>Murphy USA<br><b>Address: </b>2635 Grand Ave<br>Carthage, MO",
          "<b>Date: </b>04/24/2024<br><b>Cost: </b>$3.63<br><b>Station: </b>Murphy USA<br><b>Address: </b>2635 Grand Ave<br>Carthage, MO",
          "<b>Date: </b>04/25/2024<br><b>Cost: </b>$3.63<br><b>Station: </b>Murphy USA<br><b>Address: </b>2635 Grand Ave<br>Carthage, MO",
          "<b>Date: </b>04/26/2024<br><b>Cost: </b>$3.63<br><b>Station: </b>Murphy USA<br><b>Address: </b>2635 Grand Ave<br>Carthage, MO",
          "<b>Date: </b>04/27/2024<br><b>Cost: </b>$3.63<br><b>Station: </b>Murphy USA<br><b>Address: </b>2635 Grand Ave<br>Carthage, MO",
          "<b>Date: </b>04/28/2024<br><b>Cost: </b>$3.63<br><b>Station: </b>Murphy USA<br><b>Address: </b>2635 Grand Ave<br>Carthage, MO",
          "<b>Date: </b>04/29/2024<br><b>Cost: </b>$3.63<br><b>Station: </b>Murphy USA<br><b>Address: </b>2635 Grand Ave<br>Carthage, MO",
          "<b>Date: </b>04/30/2024<br><b>Cost: </b>$3.63<br><b>Station: </b>Murphy USA<br><b>Address: </b>2635 Grand Ave<br>Carthage, MO",
          "<b>Date: </b>05/01/2024<br><b>Cost: </b>$3.63<br><b>Station: </b>Murphy USA<br><b>Address: </b>2635 Grand Ave<br>Carthage, MO"
         ],
         "name": "premium",
         "type": "scatter",
         "x": [
          "2024-04-02",
          "2024-04-03",
          "2024-04-04",
          "2024-04-05",
          "2024-04-06",
          "2024-04-07",
          "2024-04-08",
          "2024-04-09",
          "2024-04-10",
          "2024-04-11",
          "2024-04-12",
          "2024-04-13",
          "2024-04-14",
          "2024-04-15",
          "2024-04-16",
          "2024-04-17",
          "2024-04-18",
          "2024-04-19",
          "2024-04-20",
          "2024-04-21",
          "2024-04-22",
          "2024-04-23",
          "2024-04-24",
          "2024-04-25",
          "2024-04-26",
          "2024-04-27",
          "2024-04-28",
          "2024-04-29",
          "2024-04-30",
          "2024-05-01"
         ],
         "y": [
          3.62,
          3.79,
          4.07,
          3.72,
          3.69,
          3.69,
          3.64,
          3.89,
          3.86,
          3.86,
          3.83,
          3.83,
          3.83,
          3.79,
          3.79,
          3.75,
          3.71,
          3.71,
          3.71,
          3.69,
          3.64,
          3.63,
          3.63,
          3.63,
          3.63,
          3.63,
          3.63,
          3.63,
          3.63,
          3.63
         ]
        }
       ],
       "layout": {
        "autosize": true,
        "template": {
         "data": {
          "bar": [
           {
            "error_x": {
             "color": "#2a3f5f"
            },
            "error_y": {
             "color": "#2a3f5f"
            },
            "marker": {
             "line": {
              "color": "#E5ECF6",
              "width": 0.5
             },
             "pattern": {
              "fillmode": "overlay",
              "size": 10,
              "solidity": 0.2
             }
            },
            "type": "bar"
           }
          ],
          "barpolar": [
           {
            "marker": {
             "line": {
              "color": "#E5ECF6",
              "width": 0.5
             },
             "pattern": {
              "fillmode": "overlay",
              "size": 10,
              "solidity": 0.2
             }
            },
            "type": "barpolar"
           }
          ],
          "carpet": [
           {
            "aaxis": {
             "endlinecolor": "#2a3f5f",
             "gridcolor": "white",
             "linecolor": "white",
             "minorgridcolor": "white",
             "startlinecolor": "#2a3f5f"
            },
            "baxis": {
             "endlinecolor": "#2a3f5f",
             "gridcolor": "white",
             "linecolor": "white",
             "minorgridcolor": "white",
             "startlinecolor": "#2a3f5f"
            },
            "type": "carpet"
           }
          ],
          "choropleth": [
           {
            "colorbar": {
             "outlinewidth": 0,
             "ticks": ""
            },
            "type": "choropleth"
           }
          ],
          "contour": [
           {
            "colorbar": {
             "outlinewidth": 0,
             "ticks": ""
            },
            "colorscale": [
             [
              0,
              "#0d0887"
             ],
             [
              0.1111111111111111,
              "#46039f"
             ],
             [
              0.2222222222222222,
              "#7201a8"
             ],
             [
              0.3333333333333333,
              "#9c179e"
             ],
             [
              0.4444444444444444,
              "#bd3786"
             ],
             [
              0.5555555555555556,
              "#d8576b"
             ],
             [
              0.6666666666666666,
              "#ed7953"
             ],
             [
              0.7777777777777778,
              "#fb9f3a"
             ],
             [
              0.8888888888888888,
              "#fdca26"
             ],
             [
              1,
              "#f0f921"
             ]
            ],
            "type": "contour"
           }
          ],
          "contourcarpet": [
           {
            "colorbar": {
             "outlinewidth": 0,
             "ticks": ""
            },
            "type": "contourcarpet"
           }
          ],
          "heatmap": [
           {
            "colorbar": {
             "outlinewidth": 0,
             "ticks": ""
            },
            "colorscale": [
             [
              0,
              "#0d0887"
             ],
             [
              0.1111111111111111,
              "#46039f"
             ],
             [
              0.2222222222222222,
              "#7201a8"
             ],
             [
              0.3333333333333333,
              "#9c179e"
             ],
             [
              0.4444444444444444,
              "#bd3786"
             ],
             [
              0.5555555555555556,
              "#d8576b"
             ],
             [
              0.6666666666666666,
              "#ed7953"
             ],
             [
              0.7777777777777778,
              "#fb9f3a"
             ],
             [
              0.8888888888888888,
              "#fdca26"
             ],
             [
              1,
              "#f0f921"
             ]
            ],
            "type": "heatmap"
           }
          ],
          "heatmapgl": [
           {
            "colorbar": {
             "outlinewidth": 0,
             "ticks": ""
            },
            "colorscale": [
             [
              0,
              "#0d0887"
             ],
             [
              0.1111111111111111,
              "#46039f"
             ],
             [
              0.2222222222222222,
              "#7201a8"
             ],
             [
              0.3333333333333333,
              "#9c179e"
             ],
             [
              0.4444444444444444,
              "#bd3786"
             ],
             [
              0.5555555555555556,
              "#d8576b"
             ],
             [
              0.6666666666666666,
              "#ed7953"
             ],
             [
              0.7777777777777778,
              "#fb9f3a"
             ],
             [
              0.8888888888888888,
              "#fdca26"
             ],
             [
              1,
              "#f0f921"
             ]
            ],
            "type": "heatmapgl"
           }
          ],
          "histogram": [
           {
            "marker": {
             "pattern": {
              "fillmode": "overlay",
              "size": 10,
              "solidity": 0.2
             }
            },
            "type": "histogram"
           }
          ],
          "histogram2d": [
           {
            "colorbar": {
             "outlinewidth": 0,
             "ticks": ""
            },
            "colorscale": [
             [
              0,
              "#0d0887"
             ],
             [
              0.1111111111111111,
              "#46039f"
             ],
             [
              0.2222222222222222,
              "#7201a8"
             ],
             [
              0.3333333333333333,
              "#9c179e"
             ],
             [
              0.4444444444444444,
              "#bd3786"
             ],
             [
              0.5555555555555556,
              "#d8576b"
             ],
             [
              0.6666666666666666,
              "#ed7953"
             ],
             [
              0.7777777777777778,
              "#fb9f3a"
             ],
             [
              0.8888888888888888,
              "#fdca26"
             ],
             [
              1,
              "#f0f921"
             ]
            ],
            "type": "histogram2d"
           }
          ],
          "histogram2dcontour": [
           {
            "colorbar": {
             "outlinewidth": 0,
             "ticks": ""
            },
            "colorscale": [
             [
              0,
              "#0d0887"
             ],
             [
              0.1111111111111111,
              "#46039f"
             ],
             [
              0.2222222222222222,
              "#7201a8"
             ],
             [
              0.3333333333333333,
              "#9c179e"
             ],
             [
              0.4444444444444444,
              "#bd3786"
             ],
             [
              0.5555555555555556,
              "#d8576b"
             ],
             [
              0.6666666666666666,
              "#ed7953"
             ],
             [
              0.7777777777777778,
              "#fb9f3a"
             ],
             [
              0.8888888888888888,
              "#fdca26"
             ],
             [
              1,
              "#f0f921"
             ]
            ],
            "type": "histogram2dcontour"
           }
          ],
          "mesh3d": [
           {
            "colorbar": {
             "outlinewidth": 0,
             "ticks": ""
            },
            "type": "mesh3d"
           }
          ],
          "parcoords": [
           {
            "line": {
             "colorbar": {
              "outlinewidth": 0,
              "ticks": ""
             }
            },
            "type": "parcoords"
           }
          ],
          "pie": [
           {
            "automargin": true,
            "type": "pie"
           }
          ],
          "scatter": [
           {
            "fillpattern": {
             "fillmode": "overlay",
             "size": 10,
             "solidity": 0.2
            },
            "type": "scatter"
           }
          ],
          "scatter3d": [
           {
            "line": {
             "colorbar": {
              "outlinewidth": 0,
              "ticks": ""
             }
            },
            "marker": {
             "colorbar": {
              "outlinewidth": 0,
              "ticks": ""
             }
            },
            "type": "scatter3d"
           }
          ],
          "scattercarpet": [
           {
            "marker": {
             "colorbar": {
              "outlinewidth": 0,
              "ticks": ""
             }
            },
            "type": "scattercarpet"
           }
          ],
          "scattergeo": [
           {
            "marker": {
             "colorbar": {
              "outlinewidth": 0,
              "ticks": ""
             }
            },
            "type": "scattergeo"
           }
          ],
          "scattergl": [
           {
            "marker": {
             "colorbar": {
              "outlinewidth": 0,
              "ticks": ""
             }
            },
            "type": "scattergl"
           }
          ],
          "scattermapbox": [
           {
            "marker": {
             "colorbar": {
              "outlinewidth": 0,
              "ticks": ""
             }
            },
            "type": "scattermapbox"
           }
          ],
          "scatterpolar": [
           {
            "marker": {
             "colorbar": {
              "outlinewidth": 0,
              "ticks": ""
             }
            },
            "type": "scatterpolar"
           }
          ],
          "scatterpolargl": [
           {
            "marker": {
             "colorbar": {
              "outlinewidth": 0,
              "ticks": ""
             }
            },
            "type": "scatterpolargl"
           }
          ],
          "scatterternary": [
           {
            "marker": {
             "colorbar": {
              "outlinewidth": 0,
              "ticks": ""
             }
            },
            "type": "scatterternary"
           }
          ],
          "surface": [
           {
            "colorbar": {
             "outlinewidth": 0,
             "ticks": ""
            },
            "colorscale": [
             [
              0,
              "#0d0887"
             ],
             [
              0.1111111111111111,
              "#46039f"
             ],
             [
              0.2222222222222222,
              "#7201a8"
             ],
             [
              0.3333333333333333,
              "#9c179e"
             ],
             [
              0.4444444444444444,
              "#bd3786"
             ],
             [
              0.5555555555555556,
              "#d8576b"
             ],
             [
              0.6666666666666666,
              "#ed7953"
             ],
             [
              0.7777777777777778,
              "#fb9f3a"
             ],
             [
              0.8888888888888888,
              "#fdca26"
             ],
             [
              1,
              "#f0f921"
             ]
            ],
            "type": "surface"
           }
          ],
          "table": [
           {
            "cells": {
             "fill": {
              "color": "#EBF0F8"
             },
             "line": {
              "color": "white"
             }
            },
            "header": {
             "fill": {
              "color": "#C8D4E3"
             },
             "line": {
              "color": "white"
             }
            },
            "type": "table"
           }
          ]
         },
         "layout": {
          "annotationdefaults": {
           "arrowcolor": "#2a3f5f",
           "arrowhead": 0,
           "arrowwidth": 1
          },
          "autotypenumbers": "strict",
          "coloraxis": {
           "colorbar": {
            "outlinewidth": 0,
            "ticks": ""
           }
          },
          "colorscale": {
           "diverging": [
            [
             0,
             "#8e0152"
            ],
            [
             0.1,
             "#c51b7d"
            ],
            [
             0.2,
             "#de77ae"
            ],
            [
             0.3,
             "#f1b6da"
            ],
            [
             0.4,
             "#fde0ef"
            ],
            [
             0.5,
             "#f7f7f7"
            ],
            [
             0.6,
             "#e6f5d0"
            ],
            [
             0.7,
             "#b8e186"
            ],
            [
             0.8,
             "#7fbc41"
            ],
            [
             0.9,
             "#4d9221"
            ],
            [
             1,
             "#276419"
            ]
           ],
           "sequential": [
            [
             0,
             "#0d0887"
            ],
            [
             0.1111111111111111,
             "#46039f"
            ],
            [
             0.2222222222222222,
             "#7201a8"
            ],
            [
             0.3333333333333333,
             "#9c179e"
            ],
            [
             0.4444444444444444,
             "#bd3786"
            ],
            [
             0.5555555555555556,
             "#d8576b"
            ],
            [
             0.6666666666666666,
             "#ed7953"
            ],
            [
             0.7777777777777778,
             "#fb9f3a"
            ],
            [
             0.8888888888888888,
             "#fdca26"
            ],
            [
             1,
             "#f0f921"
            ]
           ],
           "sequentialminus": [
            [
             0,
             "#0d0887"
            ],
            [
             0.1111111111111111,
             "#46039f"
            ],
            [
             0.2222222222222222,
             "#7201a8"
            ],
            [
             0.3333333333333333,
             "#9c179e"
            ],
            [
             0.4444444444444444,
             "#bd3786"
            ],
            [
             0.5555555555555556,
             "#d8576b"
            ],
            [
             0.6666666666666666,
             "#ed7953"
            ],
            [
             0.7777777777777778,
             "#fb9f3a"
            ],
            [
             0.8888888888888888,
             "#fdca26"
            ],
            [
             1,
             "#f0f921"
            ]
           ]
          },
          "colorway": [
           "#636efa",
           "#EF553B",
           "#00cc96",
           "#ab63fa",
           "#FFA15A",
           "#19d3f3",
           "#FF6692",
           "#B6E880",
           "#FF97FF",
           "#FECB52"
          ],
          "font": {
           "color": "#2a3f5f"
          },
          "geo": {
           "bgcolor": "white",
           "lakecolor": "white",
           "landcolor": "#E5ECF6",
           "showlakes": true,
           "showland": true,
           "subunitcolor": "white"
          },
          "hoverlabel": {
           "align": "left"
          },
          "hovermode": "closest",
          "mapbox": {
           "style": "light"
          },
          "paper_bgcolor": "white",
          "plot_bgcolor": "#E5ECF6",
          "polar": {
           "angularaxis": {
            "gridcolor": "white",
            "linecolor": "white",
            "ticks": ""
           },
           "bgcolor": "#E5ECF6",
           "radialaxis": {
            "gridcolor": "white",
            "linecolor": "white",
            "ticks": ""
           }
          },
          "scene": {
           "xaxis": {
            "backgroundcolor": "#E5ECF6",
            "gridcolor": "white",
            "gridwidth": 2,
            "linecolor": "white",
            "showbackground": true,
            "ticks": "",
            "zerolinecolor": "white"
           },
           "yaxis": {
            "backgroundcolor": "#E5ECF6",
            "gridcolor": "white",
            "gridwidth": 2,
            "linecolor": "white",
            "showbackground": true,
            "ticks": "",
            "zerolinecolor": "white"
           },
           "zaxis": {
            "backgroundcolor": "#E5ECF6",
            "gridcolor": "white",
            "gridwidth": 2,
            "linecolor": "white",
            "showbackground": true,
            "ticks": "",
            "zerolinecolor": "white"
           }
          },
          "shapedefaults": {
           "line": {
            "color": "#2a3f5f"
           }
          },
          "ternary": {
           "aaxis": {
            "gridcolor": "white",
            "linecolor": "white",
            "ticks": ""
           },
           "baxis": {
            "gridcolor": "white",
            "linecolor": "white",
            "ticks": ""
           },
           "bgcolor": "#E5ECF6",
           "caxis": {
            "gridcolor": "white",
            "linecolor": "white",
            "ticks": ""
           }
          },
          "title": {
           "x": 0.05
          },
          "xaxis": {
           "automargin": true,
           "gridcolor": "white",
           "linecolor": "white",
           "ticks": "",
           "title": {
            "standoff": 15
           },
           "zerolinecolor": "white",
           "zerolinewidth": 2
          },
          "yaxis": {
           "automargin": true,
           "gridcolor": "white",
           "linecolor": "white",
           "ticks": "",
           "title": {
            "standoff": 15
           },
           "zerolinecolor": "white",
           "zerolinewidth": 2
          }
         }
        },
        "title": {
         "text": "Lowest Fuel Prices in Carthage, MO"
        },
        "xaxis": {
         "autorange": true,
         "range": [
          "2024-04-02",
          "2024-05-01"
         ],
         "type": "date"
        },
        "yaxis": {
         "autorange": true,
         "range": [
          2.961666666666667,
          4.128333333333334
         ],
         "type": "linear"
        }
       }
      },
      "image/png": "[encoded data removed]",
      "text/html": [
       "<div>                            <div id=\"ddaf101c-08c3-4f22-a73b-95bf5e4a674d\" class=\"plotly-graph-div\" style=\"height:600px; width:100%;\"></div>            <script type=\"text/javascript\">                require([\"plotly\"], function(Plotly) {                    window.PLOTLYENV=window.PLOTLYENV || {};                                    if (document.getElementById(\"ddaf101c-08c3-4f22-a73b-95bf5e4a674d\")) {                    Plotly.newPlot(                        \"ddaf101c-08c3-4f22-a73b-95bf5e4a674d\",                        [{\"hovertemplate\":[\"<b>Date: </b>04/02/2024<br><b>Cost: </b>$3.02<br><b>Station: </b>Murphy USA<br><b>Address: </b>2635 Grand Ave<br>Carthage, MO\",\"<b>Date: </b>04/03/2024<br><b>Cost: </b>$3.09<br><b>Station: </b>The Corner<br><b>Address: </b>824 E Fairview Ave<br>Carthage, MO\",\"<b>Date: </b>04/04/2024<br><b>Cost: </b>$3.15<br><b>Station: </b>Murphy USA<br><b>Address: </b>2635 Grand Ave<br>Carthage, MO\",\"<b>Date: </b>04/05/2024<br><b>Cost: </b>$3.12<br><b>Station: </b>Murphy USA<br><b>Address: </b>2635 Grand Ave<br>Carthage, MO\",\"<b>Date: </b>04/06/2024<br><b>Cost: </b>$3.09<br><b>Station: </b>Murphy USA<br><b>Address: </b>2635 Grand Ave<br>Carthage, MO\",\"<b>Date: </b>04/07/2024<br><b>Cost: </b>$3.09<br><b>Station: </b>Murphy USA<br><b>Address: </b>2635 Grand Ave<br>Carthage, MO\",\"<b>Date: </b>04/08/2024<br><b>Cost: </b>$3.04<br><b>Station: </b>Murphy USA<br><b>Address: </b>2635 Grand Ave<br>Carthage, MO\",\"<b>Date: </b>04/09/2024<br><b>Cost: </b>$3.10<br><b>Station: </b>Phillips 66<br><b>Address: </b>2812 Hazel St<br>Carthage, MO\",\"<b>Date: </b>04/10/2024<br><b>Cost: </b>$3.10<br><b>Station: </b>Phillips 66<br><b>Address: </b>2812 Hazel St<br>Carthage, MO\",\"<b>Date: </b>04/11/2024<br><b>Cost: </b>$3.10<br><b>Station: </b>Phillips 66<br><b>Address: </b>2812 Hazel St<br>Carthage, MO\",\"<b>Date: </b>04/12/2024<br><b>Cost: </b>$3.23<br><b>Station: </b>Murphy USA<br><b>Address: </b>2635 Grand Ave<br>Carthage, MO\",\"<b>Date: </b>04/13/2024<br><b>Cost: </b>$3.23<br><b>Station: </b>Murphy USA<br><b>Address: </b>2635 Grand Ave<br>Carthage, MO\",\"<b>Date: </b>04/14/2024<br><b>Cost: </b>$3.23<br><b>Station: </b>Murphy USA<br><b>Address: </b>2635 Grand Ave<br>Carthage, MO\",\"<b>Date: </b>04/15/2024<br><b>Cost: </b>$3.19<br><b>Station: </b>Murphy USA<br><b>Address: </b>2635 Grand Ave<br>Carthage, MO\",\"<b>Date: </b>04/16/2024<br><b>Cost: </b>$3.19<br><b>Station: </b>Murphy USA<br><b>Address: </b>2635 Grand Ave<br>Carthage, MO\",\"<b>Date: </b>04/17/2024<br><b>Cost: </b>$3.15<br><b>Station: </b>Murphy USA<br><b>Address: </b>2635 Grand Ave<br>Carthage, MO\",\"<b>Date: </b>04/18/2024<br><b>Cost: </b>$3.11<br><b>Station: </b>Murphy USA<br><b>Address: </b>2635 Grand Ave<br>Carthage, MO\",\"<b>Date: </b>04/19/2024<br><b>Cost: </b>$3.11<br><b>Station: </b>Murphy USA<br><b>Address: </b>2635 Grand Ave<br>Carthage, MO\",\"<b>Date: </b>04/20/2024<br><b>Cost: </b>$3.11<br><b>Station: </b>Murphy USA<br><b>Address: </b>2635 Grand Ave<br>Carthage, MO\",\"<b>Date: </b>04/21/2024<br><b>Cost: </b>$3.09<br><b>Station: </b>Murphy USA<br><b>Address: </b>2635 Grand Ave<br>Carthage, MO\",\"<b>Date: </b>04/22/2024<br><b>Cost: </b>$3.04<br><b>Station: </b>Murphy USA<br><b>Address: </b>2635 Grand Ave<br>Carthage, MO\",\"<b>Date: </b>04/23/2024<br><b>Cost: </b>$3.03<br><b>Station: </b>Murphy USA<br><b>Address: </b>2635 Grand Ave<br>Carthage, MO\",\"<b>Date: </b>04/24/2024<br><b>Cost: </b>$3.03<br><b>Station: </b>Murphy USA<br><b>Address: </b>2635 Grand Ave<br>Carthage, MO\",\"<b>Date: </b>04/25/2024<br><b>Cost: </b>$3.03<br><b>Station: </b>Murphy USA<br><b>Address: </b>2635 Grand Ave<br>Carthage, MO\",\"<b>Date: </b>04/26/2024<br><b>Cost: </b>$3.03<br><b>Station: </b>Murphy USA<br><b>Address: </b>2635 Grand Ave<br>Carthage, MO\",\"<b>Date: </b>04/27/2024<br><b>Cost: </b>$3.03<br><b>Station: </b>Murphy USA<br><b>Address: </b>2635 Grand Ave<br>Carthage, MO\",\"<b>Date: </b>04/28/2024<br><b>Cost: </b>$3.03<br><b>Station: </b>Murphy USA<br><b>Address: </b>2635 Grand Ave<br>Carthage, MO\",\"<b>Date: </b>04/29/2024<br><b>Cost: </b>$3.03<br><b>Station: </b>Murphy USA<br><b>Address: </b>2635 Grand Ave<br>Carthage, MO\",\"<b>Date: </b>04/30/2024<br><b>Cost: </b>$3.03<br><b>Station: </b>Murphy USA<br><b>Address: </b>2635 Grand Ave<br>Carthage, MO\",\"<b>Date: </b>05/01/2024<br><b>Cost: </b>$3.03<br><b>Station: </b>Murphy USA<br><b>Address: </b>2635 Grand Ave<br>Carthage, MO\"],\"name\":\"regular\",\"x\":[\"2024-04-02\",\"2024-04-03\",\"2024-04-04\",\"2024-04-05\",\"2024-04-06\",\"2024-04-07\",\"2024-04-08\",\"2024-04-09\",\"2024-04-10\",\"2024-04-11\",\"2024-04-12\",\"2024-04-13\",\"2024-04-14\",\"2024-04-15\",\"2024-04-16\",\"2024-04-17\",\"2024-04-18\",\"2024-04-19\",\"2024-04-20\",\"2024-04-21\",\"2024-04-22\",\"2024-04-23\",\"2024-04-24\",\"2024-04-25\",\"2024-04-26\",\"2024-04-27\",\"2024-04-28\",\"2024-04-29\",\"2024-04-30\",\"2024-05-01\"],\"y\":[3.02,3.09,3.15,3.12,3.09,3.09,3.04,3.1,3.1,3.1,3.23,3.23,3.23,3.19,3.19,3.15,3.11,3.11,3.11,3.09,3.04,3.03,3.03,3.03,3.03,3.03,3.03,3.03,3.03,3.03],\"type\":\"scatter\"},{\"hovertemplate\":[\"<b>Date: </b>04/02/2024<br><b>Cost: </b>$3.69<br><b>Station: </b>Casey's<br><b>Address: </b>2214 Fairlawn Ave<br>Carthage, MO\",\"<b>Date: </b>04/03/2024<br><b>Cost: </b>$3.69<br><b>Station: </b>Casey's<br><b>Address: </b>917 W Central Ave<br>Carthage, MO\",\"<b>Date: </b>04/04/2024<br><b>Cost: </b>$3.69<br><b>Station: </b>Casey's<br><b>Address: </b>917 W Central Ave<br>Carthage, MO\",\"<b>Date: </b>04/05/2024<br><b>Cost: </b>$3.69<br><b>Station: </b>Casey's<br><b>Address: </b>917 W Central Ave<br>Carthage, MO\",\"<b>Date: </b>04/06/2024<br><b>Cost: </b>$3.69<br><b>Station: </b>Casey's<br><b>Address: </b>917 W Central Ave<br>Carthage, MO\",\"<b>Date: </b>04/07/2024<br><b>Cost: </b>$3.69<br><b>Station: </b>Casey's<br><b>Address: </b>917 W Central Ave<br>Carthage, MO\",\"<b>Date: </b>04/08/2024<br><b>Cost: </b>$3.69<br><b>Station: </b>Casey's<br><b>Address: </b>917 W Central Ave<br>Carthage, MO\",\"<b>Date: </b>04/09/2024<br><b>Cost: </b>$3.69<br><b>Station: </b>Casey's<br><b>Address: </b>917 W Central Ave<br>Carthage, MO\",\"<b>Date: </b>04/10/2024<br><b>Cost: </b>$3.69<br><b>Station: </b>Casey's<br><b>Address: </b>917 W Central Ave<br>Carthage, MO\",\"<b>Date: </b>04/11/2024<br><b>Cost: </b>$3.69<br><b>Station: </b>Casey's<br><b>Address: </b>917 W Central Ave<br>Carthage, MO\",\"<b>Date: </b>04/12/2024<br><b>Cost: </b>$3.69<br><b>Station: </b>Casey's<br><b>Address: </b>2214 Fairlawn Ave<br>Carthage, MO\",\"<b>Date: </b>04/13/2024<br><b>Cost: </b>$3.69<br><b>Station: </b>Casey's<br><b>Address: </b>917 W Central Ave<br>Carthage, MO\",\"<b>Date: </b>04/14/2024<br><b>Cost: </b>$3.69<br><b>Station: </b>Casey's<br><b>Address: </b>917 W Central Ave<br>Carthage, MO\",\"<b>Date: </b>04/15/2024<br><b>Cost: </b>$3.69<br><b>Station: </b>Casey's<br><b>Address: </b>917 W Central Ave<br>Carthage, MO\",\"<b>Date: </b>04/16/2024<br><b>Cost: </b>$3.69<br><b>Station: </b>Casey's<br><b>Address: </b>917 W Central Ave<br>Carthage, MO\",\"<b>Date: </b>04/17/2024<br><b>Cost: </b>$3.69<br><b>Station: </b>Casey's<br><b>Address: </b>917 W Central Ave<br>Carthage, MO\",\"<b>Date: </b>04/18/2024<br><b>Cost: </b>$3.69<br><b>Station: </b>Casey's<br><b>Address: </b>917 W Central Ave<br>Carthage, MO\",\"<b>Date: </b>04/19/2024<br><b>Cost: </b>$3.69<br><b>Station: </b>Casey's<br><b>Address: </b>917 W Central Ave<br>Carthage, MO\",\"<b>Date: </b>04/20/2024<br><b>Cost: </b>$3.69<br><b>Station: </b>Casey's<br><b>Address: </b>917 W Central Ave<br>Carthage, MO\",\"<b>Date: </b>04/21/2024<br><b>Cost: </b>$3.59<br><b>Station: </b>The Corner<br><b>Address: </b>824 E Fairview Ave<br>Carthage, MO\",\"<b>Date: </b>04/22/2024<br><b>Cost: </b>$3.59<br><b>Station: </b>The Corner<br><b>Address: </b>824 E Fairview Ave<br>Carthage, MO\",\"<b>Date: </b>04/23/2024<br><b>Cost: </b>$3.69<br><b>Station: </b>Casey's<br><b>Address: </b>917 W Central Ave<br>Carthage, MO\",\"<b>Date: </b>04/24/2024<br><b>Cost: </b>$3.59<br><b>Station: </b>The Corner<br><b>Address: </b>824 E Fairview Ave<br>Carthage, MO\",\"<b>Date: </b>04/25/2024<br><b>Cost: </b>$3.59<br><b>Station: </b>The Corner<br><b>Address: </b>824 E Fairview Ave<br>Carthage, MO\",\"<b>Date: </b>04/26/2024<br><b>Cost: </b>$3.59<br><b>Station: </b>The Corner<br><b>Address: </b>824 E Fairview Ave<br>Carthage, MO\",\"<b>Date: </b>04/27/2024<br><b>Cost: </b>$3.69<br><b>Station: </b>Casey's<br><b>Address: </b>917 W Central Ave<br>Carthage, MO\",\"<b>Date: </b>04/28/2024<br><b>Cost: </b>$3.69<br><b>Station: </b>Casey's<br><b>Address: </b>2214 Fairlawn Ave<br>Carthage, MO\",\"<b>Date: </b>04/29/2024<br><b>Cost: </b>$3.59<br><b>Station: </b>The Corner<br><b>Address: </b>824 E Fairview Ave<br>Carthage, MO\",\"<b>Date: </b>04/30/2024<br><b>Cost: </b>$3.69<br><b>Station: </b>Casey's<br><b>Address: </b>917 W Central Ave<br>Carthage, MO\",\"<b>Date: </b>05/01/2024<br><b>Cost: </b>$3.69<br><b>Station: </b>Casey's<br><b>Address: </b>917 W Central Ave<br>Carthage, MO\"],\"name\":\"diesel\",\"x\":[\"2024-04-02\",\"2024-04-03\",\"2024-04-04\",\"2024-04-05\",\"2024-04-06\",\"2024-04-07\",\"2024-04-08\",\"2024-04-09\",\"2024-04-10\",\"2024-04-11\",\"2024-04-12\",\"2024-04-13\",\"2024-04-14\",\"2024-04-15\",\"2024-04-16\",\"2024-04-17\",\"2024-04-18\",\"2024-04-19\",\"2024-04-20\",\"2024-04-21\",\"2024-04-22\",\"2024-04-23\",\"2024-04-24\",\"2024-04-25\",\"2024-04-26\",\"2024-04-27\",\"2024-04-28\",\"2024-04-29\",\"2024-04-30\",\"2024-05-01\"],\"y\":[3.69,3.69,3.69,3.69,3.69,3.69,3.69,3.69,3.69,3.69,3.69,3.69,3.69,3.69,3.69,3.69,3.69,3.69,3.69,3.59,3.59,3.69,3.59,3.59,3.59,3.69,3.69,3.59,3.69,3.69],\"type\":\"scatter\"},{\"hovertemplate\":[\"<b>Date: </b>04/02/2024<br><b>Cost: </b>$3.62<br><b>Station: </b>Murphy USA<br><b>Address: </b>2635 Grand Ave<br>Carthage, MO\",\"<b>Date: </b>04/03/2024<br><b>Cost: </b>$3.79<br><b>Station: </b>Murphy USA<br><b>Address: </b>2635 Grand Ave<br>Carthage, MO\",\"<b>Date: </b>04/04/2024<br><b>Cost: </b>$4.07<br><b>Station: </b>Phillips 66<br><b>Address: </b>1224 W Central Ave<br>Carthage, MO\",\"<b>Date: </b>04/05/2024<br><b>Cost: </b>$3.72<br><b>Station: </b>Murphy USA<br><b>Address: </b>2635 Grand Ave<br>Carthage, MO\",\"<b>Date: </b>04/06/2024<br><b>Cost: </b>$3.69<br><b>Station: </b>Murphy USA<br><b>Address: </b>2635 Grand Ave<br>Carthage, MO\",\"<b>Date: </b>04/07/2024<br><b>Cost: </b>$3.69<br><b>Station: </b>Murphy USA<br><b>Address: </b>2635 Grand Ave<br>Carthage, MO\",\"<b>Date: </b>04/08/2024<br><b>Cost: </b>$3.64<br><b>Station: </b>Murphy USA<br><b>Address: </b>2635 Grand Ave<br>Carthage, MO\",\"<b>Date: </b>04/09/2024<br><b>Cost: </b>$3.89<br><b>Station: </b>Murphy USA<br><b>Address: </b>2635 Grand Ave<br>Carthage, MO\",\"<b>Date: </b>04/10/2024<br><b>Cost: </b>$3.86<br><b>Station: </b>Murphy USA<br><b>Address: </b>2635 Grand Ave<br>Carthage, MO\",\"<b>Date: </b>04/11/2024<br><b>Cost: </b>$3.86<br><b>Station: </b>Murphy USA<br><b>Address: </b>2635 Grand Ave<br>Carthage, MO\",\"<b>Date: </b>04/12/2024<br><b>Cost: </b>$3.83<br><b>Station: </b>Murphy USA<br><b>Address: </b>2635 Grand Ave<br>Carthage, MO\",\"<b>Date: </b>04/13/2024<br><b>Cost: </b>$3.83<br><b>Station: </b>Murphy USA<br><b>Address: </b>2635 Grand Ave<br>Carthage, MO\",\"<b>Date: </b>04/14/2024<br><b>Cost: </b>$3.83<br><b>Station: </b>Murphy USA<br><b>Address: </b>2635 Grand Ave<br>Carthage, MO\",\"<b>Date: </b>04/15/2024<br><b>Cost: </b>$3.79<br><b>Station: </b>Murphy USA<br><b>Address: </b>2635 Grand Ave<br>Carthage, MO\",\"<b>Date: </b>04/16/2024<br><b>Cost: </b>$3.79<br><b>Station: </b>Murphy USA<br><b>Address: </b>2635 Grand Ave<br>Carthage, MO\",\"<b>Date: </b>04/17/2024<br><b>Cost: </b>$3.75<br><b>Station: </b>Murphy USA<br><b>Address: </b>2635 Grand Ave<br>Carthage, MO\",\"<b>Date: </b>04/18/2024<br><b>Cost: </b>$3.71<br><b>Station: </b>Murphy USA<br><b>Address: </b>2635 Grand Ave<br>Carthage, MO\",\"<b>Date: </b>04/19/2024<br><b>Cost: </b>$3.71<br><b>Station: </b>Murphy USA<br><b>Address: </b>2635 Grand Ave<br>Carthage, MO\",\"<b>Date: </b>04/20/2024<br><b>Cost: </b>$3.71<br><b>Station: </b>Murphy USA<br><b>Address: </b>2635 Grand Ave<br>Carthage, MO\",\"<b>Date: </b>04/21/2024<br><b>Cost: </b>$3.69<br><b>Station: </b>Murphy USA<br><b>Address: </b>2635 Grand Ave<br>Carthage, MO\",\"<b>Date: </b>04/22/2024<br><b>Cost: </b>$3.64<br><b>Station: </b>Murphy USA<br><b>Address: </b>2635 Grand Ave<br>Carthage, MO\",\"<b>Date: </b>04/23/2024<br><b>Cost: </b>$3.63<br><b>Station: </b>Murphy USA<br><b>Address: </b>2635 Grand Ave<br>Carthage, MO\",\"<b>Date: </b>04/24/2024<br><b>Cost: </b>$3.63<br><b>Station: </b>Murphy USA<br><b>Address: </b>2635 Grand Ave<br>Carthage, MO\",\"<b>Date: </b>04/25/2024<br><b>Cost: </b>$3.63<br><b>Station: </b>Murphy USA<br><b>Address: </b>2635 Grand Ave<br>Carthage, MO\",\"<b>Date: </b>04/26/2024<br><b>Cost: </b>$3.63<br><b>Station: </b>Murphy USA<br><b>Address: </b>2635 Grand Ave<br>Carthage, MO\",\"<b>Date: </b>04/27/2024<br><b>Cost: </b>$3.63<br><b>Station: </b>Murphy USA<br><b>Address: </b>2635 Grand Ave<br>Carthage, MO\",\"<b>Date: </b>04/28/2024<br><b>Cost: </b>$3.63<br><b>Station: </b>Murphy USA<br><b>Address: </b>2635 Grand Ave<br>Carthage, MO\",\"<b>Date: </b>04/29/2024<br><b>Cost: </b>$3.63<br><b>Station: </b>Murphy USA<br><b>Address: </b>2635 Grand Ave<br>Carthage, MO\",\"<b>Date: </b>04/30/2024<br><b>Cost: </b>$3.63<br><b>Station: </b>Murphy USA<br><b>Address: </b>2635 Grand Ave<br>Carthage, MO\",\"<b>Date: </b>05/01/2024<br><b>Cost: </b>$3.63<br><b>Station: </b>Murphy USA<br><b>Address: </b>2635 Grand Ave<br>Carthage, MO\"],\"name\":\"premium\",\"x\":[\"2024-04-02\",\"2024-04-03\",\"2024-04-04\",\"2024-04-05\",\"2024-04-06\",\"2024-04-07\",\"2024-04-08\",\"2024-04-09\",\"2024-04-10\",\"2024-04-11\",\"2024-04-12\",\"2024-04-13\",\"2024-04-14\",\"2024-04-15\",\"2024-04-16\",\"2024-04-17\",\"2024-04-18\",\"2024-04-19\",\"2024-04-20\",\"2024-04-21\",\"2024-04-22\",\"2024-04-23\",\"2024-04-24\",\"2024-04-25\",\"2024-04-26\",\"2024-04-27\",\"2024-04-28\",\"2024-04-29\",\"2024-04-30\",\"2024-05-01\"],\"y\":[3.62,3.79,4.07,3.72,3.69,3.69,3.64,3.89,3.86,3.86,3.83,3.83,3.83,3.79,3.79,3.75,3.71,3.71,3.71,3.69,3.64,3.63,3.63,3.63,3.63,3.63,3.63,3.63,3.63,3.63],\"type\":\"scatter\"}],                        {\"height\":600,\"template\":{\"data\":{\"barpolar\":[{\"marker\":{\"line\":{\"color\":\"#E5ECF6\",\"width\":0.5},\"pattern\":{\"fillmode\":\"overlay\",\"size\":10,\"solidity\":0.2}},\"type\":\"barpolar\"}],\"bar\":[{\"error_x\":{\"color\":\"#2a3f5f\"},\"error_y\":{\"color\":\"#2a3f5f\"},\"marker\":{\"line\":{\"color\":\"#E5ECF6\",\"width\":0.5},\"pattern\":{\"fillmode\":\"overlay\",\"size\":10,\"solidity\":0.2}},\"type\":\"bar\"}],\"carpet\":[{\"aaxis\":{\"endlinecolor\":\"#2a3f5f\",\"gridcolor\":\"white\",\"linecolor\":\"white\",\"minorgridcolor\":\"white\",\"startlinecolor\":\"#2a3f5f\"},\"baxis\":{\"endlinecolor\":\"#2a3f5f\",\"gridcolor\":\"white\",\"linecolor\":\"white\",\"minorgridcolor\":\"white\",\"startlinecolor\":\"#2a3f5f\"},\"type\":\"carpet\"}],\"choropleth\":[{\"colorbar\":{\"outlinewidth\":0,\"ticks\":\"\"},\"type\":\"choropleth\"}],\"contourcarpet\":[{\"colorbar\":{\"outlinewidth\":0,\"ticks\":\"\"},\"type\":\"contourcarpet\"}],\"contour\":[{\"colorbar\":{\"outlinewidth\":0,\"ticks\":\"\"},\"colorscale\":[[0.0,\"#0d0887\"],[0.1111111111111111,\"#46039f\"],[0.2222222222222222,\"#7201a8\"],[0.3333333333333333,\"#9c179e\"],[0.4444444444444444,\"#bd3786\"],[0.5555555555555556,\"#d8576b\"],[0.6666666666666666,\"#ed7953\"],[0.7777777777777778,\"#fb9f3a\"],[0.8888888888888888,\"#fdca26\"],[1.0,\"#f0f921\"]],\"type\":\"contour\"}],\"heatmapgl\":[{\"colorbar\":{\"outlinewidth\":0,\"ticks\":\"\"},\"colorscale\":[[0.0,\"#0d0887\"],[0.1111111111111111,\"#46039f\"],[0.2222222222222222,\"#7201a8\"],[0.3333333333333333,\"#9c179e\"],[0.4444444444444444,\"#bd3786\"],[0.5555555555555556,\"#d8576b\"],[0.6666666666666666,\"#ed7953\"],[0.7777777777777778,\"#fb9f3a\"],[0.8888888888888888,\"#fdca26\"],[1.0,\"#f0f921\"]],\"type\":\"heatmapgl\"}],\"heatmap\":[{\"colorbar\":{\"outlinewidth\":0,\"ticks\":\"\"},\"colorscale\":[[0.0,\"#0d0887\"],[0.1111111111111111,\"#46039f\"],[0.2222222222222222,\"#7201a8\"],[0.3333333333333333,\"#9c179e\"],[0.4444444444444444,\"#bd3786\"],[0.5555555555555556,\"#d8576b\"],[0.6666666666666666,\"#ed7953\"],[0.7777777777777778,\"#fb9f3a\"],[0.8888888888888888,\"#fdca26\"],[1.0,\"#f0f921\"]],\"type\":\"heatmap\"}],\"histogram2dcontour\":[{\"colorbar\":{\"outlinewidth\":0,\"ticks\":\"\"},\"colorscale\":[[0.0,\"#0d0887\"],[0.1111111111111111,\"#46039f\"],[0.2222222222222222,\"#7201a8\"],[0.3333333333333333,\"#9c179e\"],[0.4444444444444444,\"#bd3786\"],[0.5555555555555556,\"#d8576b\"],[0.6666666666666666,\"#ed7953\"],[0.7777777777777778,\"#fb9f3a\"],[0.8888888888888888,\"#fdca26\"],[1.0,\"#f0f921\"]],\"type\":\"histogram2dcontour\"}],\"histogram2d\":[{\"colorbar\":{\"outlinewidth\":0,\"ticks\":\"\"},\"colorscale\":[[0.0,\"#0d0887\"],[0.1111111111111111,\"#46039f\"],[0.2222222222222222,\"#7201a8\"],[0.3333333333333333,\"#9c179e\"],[0.4444444444444444,\"#bd3786\"],[0.5555555555555556,\"#d8576b\"],[0.6666666666666666,\"#ed7953\"],[0.7777777777777778,\"#fb9f3a\"],[0.8888888888888888,\"#fdca26\"],[1.0,\"#f0f921\"]],\"type\":\"histogram2d\"}],\"histogram\":[{\"marker\":{\"pattern\":{\"fillmode\":\"overlay\",\"size\":10,\"solidity\":0.2}},\"type\":\"histogram\"}],\"mesh3d\":[{\"colorbar\":{\"outlinewidth\":0,\"ticks\":\"\"},\"type\":\"mesh3d\"}],\"parcoords\":[{\"line\":{\"colorbar\":{\"outlinewidth\":0,\"ticks\":\"\"}},\"type\":\"parcoords\"}],\"pie\":[{\"automargin\":true,\"type\":\"pie\"}],\"scatter3d\":[{\"line\":{\"colorbar\":{\"outlinewidth\":0,\"ticks\":\"\"}},\"marker\":{\"colorbar\":{\"outlinewidth\":0,\"ticks\":\"\"}},\"type\":\"scatter3d\"}],\"scattercarpet\":[{\"marker\":{\"colorbar\":{\"outlinewidth\":0,\"ticks\":\"\"}},\"type\":\"scattercarpet\"}],\"scattergeo\":[{\"marker\":{\"colorbar\":{\"outlinewidth\":0,\"ticks\":\"\"}},\"type\":\"scattergeo\"}],\"scattergl\":[{\"marker\":{\"colorbar\":{\"outlinewidth\":0,\"ticks\":\"\"}},\"type\":\"scattergl\"}],\"scattermapbox\":[{\"marker\":{\"colorbar\":{\"outlinewidth\":0,\"ticks\":\"\"}},\"type\":\"scattermapbox\"}],\"scatterpolargl\":[{\"marker\":{\"colorbar\":{\"outlinewidth\":0,\"ticks\":\"\"}},\"type\":\"scatterpolargl\"}],\"scatterpolar\":[{\"marker\":{\"colorbar\":{\"outlinewidth\":0,\"ticks\":\"\"}},\"type\":\"scatterpolar\"}],\"scatter\":[{\"fillpattern\":{\"fillmode\":\"overlay\",\"size\":10,\"solidity\":0.2},\"type\":\"scatter\"}],\"scatterternary\":[{\"marker\":{\"colorbar\":{\"outlinewidth\":0,\"ticks\":\"\"}},\"type\":\"scatterternary\"}],\"surface\":[{\"colorbar\":{\"outlinewidth\":0,\"ticks\":\"\"},\"colorscale\":[[0.0,\"#0d0887\"],[0.1111111111111111,\"#46039f\"],[0.2222222222222222,\"#7201a8\"],[0.3333333333333333,\"#9c179e\"],[0.4444444444444444,\"#bd3786\"],[0.5555555555555556,\"#d8576b\"],[0.6666666666666666,\"#ed7953\"],[0.7777777777777778,\"#fb9f3a\"],[0.8888888888888888,\"#fdca26\"],[1.0,\"#f0f921\"]],\"type\":\"surface\"}],\"table\":[{\"cells\":{\"fill\":{\"color\":\"#EBF0F8\"},\"line\":{\"color\":\"white\"}},\"header\":{\"fill\":{\"color\":\"#C8D4E3\"},\"line\":{\"color\":\"white\"}},\"type\":\"table\"}]},\"layout\":{\"annotationdefaults\":{\"arrowcolor\":\"#2a3f5f\",\"arrowhead\":0,\"arrowwidth\":1},\"autotypenumbers\":\"strict\",\"coloraxis\":{\"colorbar\":{\"outlinewidth\":0,\"ticks\":\"\"}},\"colorscale\":{\"diverging\":[[0,\"#8e0152\"],[0.1,\"#c51b7d\"],[0.2,\"#de77ae\"],[0.3,\"#f1b6da\"],[0.4,\"#fde0ef\"],[0.5,\"#f7f7f7\"],[0.6,\"#e6f5d0\"],[0.7,\"#b8e186\"],[0.8,\"#7fbc41\"],[0.9,\"#4d9221\"],[1,\"#276419\"]],\"sequential\":[[0.0,\"#0d0887\"],[0.1111111111111111,\"#46039f\"],[0.2222222222222222,\"#7201a8\"],[0.3333333333333333,\"#9c179e\"],[0.4444444444444444,\"#bd3786\"],[0.5555555555555556,\"#d8576b\"],[0.6666666666666666,\"#ed7953\"],[0.7777777777777778,\"#fb9f3a\"],[0.8888888888888888,\"#fdca26\"],[1.0,\"#f0f921\"]],\"sequentialminus\":[[0.0,\"#0d0887\"],[0.1111111111111111,\"#46039f\"],[0.2222222222222222,\"#7201a8\"],[0.3333333333333333,\"#9c179e\"],[0.4444444444444444,\"#bd3786\"],[0.5555555555555556,\"#d8576b\"],[0.6666666666666666,\"#ed7953\"],[0.7777777777777778,\"#fb9f3a\"],[0.8888888888888888,\"#fdca26\"],[1.0,\"#f0f921\"]]},\"colorway\":[\"#636efa\",\"#EF553B\",\"#00cc96\",\"#ab63fa\",\"#FFA15A\",\"#19d3f3\",\"#FF6692\",\"#B6E880\",\"#FF97FF\",\"#FECB52\"],\"font\":{\"color\":\"#2a3f5f\"},\"geo\":{\"bgcolor\":\"white\",\"lakecolor\":\"white\",\"landcolor\":\"#E5ECF6\",\"showlakes\":true,\"showland\":true,\"subunitcolor\":\"white\"},\"hoverlabel\":{\"align\":\"left\"},\"hovermode\":\"closest\",\"mapbox\":{\"style\":\"light\"},\"paper_bgcolor\":\"white\",\"plot_bgcolor\":\"#E5ECF6\",\"polar\":{\"angularaxis\":{\"gridcolor\":\"white\",\"linecolor\":\"white\",\"ticks\":\"\"},\"bgcolor\":\"#E5ECF6\",\"radialaxis\":{\"gridcolor\":\"white\",\"linecolor\":\"white\",\"ticks\":\"\"}},\"scene\":{\"xaxis\":{\"backgroundcolor\":\"#E5ECF6\",\"gridcolor\":\"white\",\"gridwidth\":2,\"linecolor\":\"white\",\"showbackground\":true,\"ticks\":\"\",\"zerolinecolor\":\"white\"},\"yaxis\":{\"backgroundcolor\":\"#E5ECF6\",\"gridcolor\":\"white\",\"gridwidth\":2,\"linecolor\":\"white\",\"showbackground\":true,\"ticks\":\"\",\"zerolinecolor\":\"white\"},\"zaxis\":{\"backgroundcolor\":\"#E5ECF6\",\"gridcolor\":\"white\",\"gridwidth\":2,\"linecolor\":\"white\",\"showbackground\":true,\"ticks\":\"\",\"zerolinecolor\":\"white\"}},\"shapedefaults\":{\"line\":{\"color\":\"#2a3f5f\"}},\"ternary\":{\"aaxis\":{\"gridcolor\":\"white\",\"linecolor\":\"white\",\"ticks\":\"\"},\"baxis\":{\"gridcolor\":\"white\",\"linecolor\":\"white\",\"ticks\":\"\"},\"bgcolor\":\"#E5ECF6\",\"caxis\":{\"gridcolor\":\"white\",\"linecolor\":\"white\",\"ticks\":\"\"}},\"title\":{\"x\":0.05},\"xaxis\":{\"automargin\":true,\"gridcolor\":\"white\",\"linecolor\":\"white\",\"ticks\":\"\",\"title\":{\"standoff\":15},\"zerolinecolor\":\"white\",\"zerolinewidth\":2},\"yaxis\":{\"automargin\":true,\"gridcolor\":\"white\",\"linecolor\":\"white\",\"ticks\":\"\",\"title\":{\"standoff\":15},\"zerolinecolor\":\"white\",\"zerolinewidth\":2}}},\"title\":{\"text\":\"Lowest Fuel Prices in Carthage, MO\"}},                        {\"responsive\": true}                    ).then(function(){\n",
       "                            \n",
       "var gd = document.getElementById('ddaf101c-08c3-4f22-a73b-95bf5e4a674d');\n",
       "var x = new MutationObserver(function (mutations, observer) {{\n",
       "        var display = window.getComputedStyle(gd).display;\n",
       "        if (!display || display === 'none') {{\n",
       "            console.log([gd, 'removed!']);\n",
       "            Plotly.purge(gd);\n",
       "            observer.disconnect();\n",
       "        }}\n",
       "}});\n",
       "\n",
       "// Listen for the removal of the full notebook cells\n",
       "var notebookContainer = gd.closest('#notebook-container');\n",
       "if (notebookContainer) {{\n",
       "    x.observe(notebookContainer, {childList: true});\n",
       "}}\n",
       "\n",
       "// Listen for the clearing of the current output cell\n",
       "var outputEl = gd.closest('.output');\n",
       "if (outputEl) {{\n",
       "    x.observe(outputEl, {childList: true});\n",
       "}}\n",
       "\n",
       "                        })                };                });            </script>        </div>"
      ]
     },
     "metadata": {},
     "output_type": "display_data"
    }
   ],
   "source": [
    "traces = []\n",
    "for fuel_type in df['FuelType'].unique():\n",
    "    traces.append(get_time_series_by_type_pos(df, fuel_type))\n",
    "\n",
    "    \n",
    "layout = {\n",
    "    'height':600,\n",
    "    #'yaxis': {'range':[3,4.2], 'dtick': 0.1},\n",
    "    'title': {'text':'Lowest Fuel Prices in Carthage, MO'}\n",
    "}\n",
    "    \n",
    "fig = go.Figure(data=traces, layout=layout)\n",
    "iplot(fig)"
   ]
  },
  {
   "cell_type": "markdown",
   "id": "2074c078-08ce-4421-a81d-23accd6f6cc7",
   "metadata": {},
   "source": [
    "# Fuel Price by Station and Address"
   ]
  },
  {
   "cell_type": "code",
   "execution_count": 49,
   "id": "e57e8583-4ae0-4f58-9d26-15ca049ed135",
   "metadata": {},
   "outputs": [],
   "source": [
    "def get_data_by_fuel_type_address(df: pd.DataFrame, fuel_type: str, address: str) -> pd.DataFrame:\n",
    "    return df[(df['FuelType'] == fuel_type) & (df['Address'] == address)].copy()\n",
    "    \n",
    "def get_time_series_by_fuel_type_address(df: pd.DataFrame, fuel_type: str, address: str) -> pd.DataFrame:\n",
    "    dff = get_data_by_fuel_type_address(df, fuel_type, address)\n",
    "    if dff.shape[0] == 0:\n",
    "        return None\n",
    "    \n",
    "    dff['ScrapeTime'] = dff['ScrapeTime'].dt.date\n",
    "    dff.set_index('ScrapeTime', inplace=True)\n",
    "    return go.Scatter(\n",
    "        x = dff.index,\n",
    "        y = dff['CondPrice'],\n",
    "        name=dff['StationAddress'].iloc[0].split('|')[0]\n",
    "    )"
   ]
  },
  {
   "cell_type": "code",
   "execution_count": 50,
   "id": "f5c33872-52fd-435f-ac9c-c8fe7b0c34ac",
   "metadata": {},
   "outputs": [
    {
     "data": {
      "application/vnd.plotly.v1+json": {
       "config": {
        "linkText": "Export to plot.ly",
        "plotlyServerURL": "https://plot.ly",
        "showLink": false
       },
       "data": [
        {
         "name": "Murphy USA - 2635 Grand Ave",
         "type": "scatter",
         "x": [
          "2024-04-02",
          "2024-04-03",
          "2024-04-04",
          "2024-04-05",
          "2024-04-06",
          "2024-04-07",
          "2024-04-08",
          "2024-04-09",
          "2024-04-10",
          "2024-04-11",
          "2024-04-12",
          "2024-04-13",
          "2024-04-14",
          "2024-04-15",
          "2024-04-16",
          "2024-04-17",
          "2024-04-18",
          "2024-04-19",
          "2024-04-20",
          "2024-04-21",
          "2024-04-22",
          "2024-04-23",
          "2024-04-24",
          "2024-04-25",
          "2024-04-26",
          "2024-04-27",
          "2024-04-28",
          "2024-04-29",
          "2024-04-30",
          "2024-05-01"
         ],
         "y": [
          3.02,
          3.19,
          3.15,
          3.12,
          3.09,
          3.09,
          3.04,
          3.29,
          3.26,
          3.26,
          3.23,
          3.23,
          3.23,
          3.19,
          3.19,
          3.15,
          3.11,
          3.11,
          3.11,
          3.09,
          3.04,
          3.03,
          3.03,
          3.03,
          3.03,
          3.03,
          3.03,
          3.03,
          3.03,
          3.03
         ]
        },
        {
         "name": "Phillips 66 - 2812 Hazel St",
         "type": "scatter",
         "x": [
          "2024-04-02",
          "2024-04-03",
          "2024-04-04",
          "2024-04-05",
          "2024-04-06",
          "2024-04-07",
          "2024-04-08",
          "2024-04-09",
          "2024-04-10",
          "2024-04-11",
          "2024-04-13",
          "2024-04-14",
          "2024-04-17",
          "2024-04-18",
          "2024-04-19",
          "2024-04-20",
          "2024-04-21",
          "2024-04-23",
          "2024-04-24",
          "2024-04-25",
          "2024-04-26",
          "2024-04-27",
          "2024-04-28",
          "2024-04-29",
          "2024-04-30",
          "2024-05-01"
         ],
         "y": [
          3.06,
          3.19,
          3.19,
          3.19,
          3.19,
          3.19,
          3.1,
          3.1,
          3.1,
          3.1,
          3.26,
          3.26,
          3.22,
          3.15,
          3.15,
          3.15,
          3.15,
          3.07,
          3.07,
          3.07,
          3.07,
          3.07,
          3.07,
          3.07,
          3.29,
          3.29
         ]
        },
        {
         "name": "Casey's - 2214 Fairlawn Ave",
         "type": "scatter",
         "x": [
          "2024-04-02",
          "2024-04-03",
          "2024-04-04",
          "2024-04-05",
          "2024-04-06",
          "2024-04-07",
          "2024-04-08",
          "2024-04-09",
          "2024-04-10",
          "2024-04-11",
          "2024-04-12",
          "2024-04-13",
          "2024-04-14",
          "2024-04-15",
          "2024-04-16",
          "2024-04-17",
          "2024-04-18",
          "2024-04-19",
          "2024-04-20",
          "2024-04-21",
          "2024-04-22",
          "2024-04-23",
          "2024-04-24",
          "2024-04-25",
          "2024-04-26",
          "2024-04-27",
          "2024-04-28",
          "2024-04-29",
          "2024-04-30",
          "2024-05-01"
         ],
         "y": [
          3.19,
          3.19,
          3.19,
          3.19,
          3.15,
          3.15,
          3.1,
          3.29,
          3.29,
          3.29,
          3.29,
          3.26,
          3.26,
          3.26,
          3.22,
          3.22,
          3.15,
          3.15,
          3.15,
          3.12,
          3.1,
          3.07,
          3.07,
          3.07,
          3.07,
          3.07,
          3.07,
          3.07,
          3.29,
          3.29
         ]
        },
        {
         "name": "Casey's - 917 W Central Ave",
         "type": "scatter",
         "x": [
          "2024-04-02",
          "2024-04-03",
          "2024-04-04",
          "2024-04-05",
          "2024-04-06",
          "2024-04-07",
          "2024-04-08",
          "2024-04-09",
          "2024-04-10",
          "2024-04-11",
          "2024-04-12",
          "2024-04-13",
          "2024-04-14",
          "2024-04-15",
          "2024-04-16",
          "2024-04-17",
          "2024-04-18",
          "2024-04-19",
          "2024-04-20",
          "2024-04-21",
          "2024-04-22",
          "2024-04-23",
          "2024-04-24",
          "2024-04-25",
          "2024-04-26",
          "2024-04-27",
          "2024-04-28",
          "2024-04-29",
          "2024-04-30",
          "2024-05-01"
         ],
         "y": [
          3.19,
          3.19,
          3.19,
          3.19,
          3.15,
          3.15,
          3.1,
          3.29,
          3.29,
          3.29,
          3.29,
          3.26,
          3.26,
          3.26,
          3.22,
          3.22,
          3.15,
          3.15,
          3.15,
          3.12,
          3.1,
          3.07,
          3.07,
          3.07,
          3.07,
          3.07,
          3.07,
          3.07,
          3.29,
          3.29
         ]
        },
        {
         "name": "Flyin W - 13011 MO-96",
         "type": "scatter",
         "x": [
          "2024-04-02",
          "2024-04-03",
          "2024-04-04",
          "2024-04-05",
          "2024-04-06",
          "2024-04-07",
          "2024-04-09",
          "2024-04-10",
          "2024-04-11",
          "2024-04-12",
          "2024-04-13",
          "2024-04-14",
          "2024-04-18",
          "2024-04-19",
          "2024-04-20",
          "2024-04-21",
          "2024-04-22",
          "2024-04-23",
          "2024-04-24"
         ],
         "y": [
          3.19,
          3.19,
          3.19,
          3.19,
          3.19,
          3.19,
          3.29,
          3.29,
          3.29,
          3.29,
          3.29,
          3.29,
          3.22,
          3.22,
          3.22,
          3.15,
          3.15,
          3.1,
          3.1
         ]
        },
        {
         "name": "Phillips 66 - 1224 W Central Ave",
         "type": "scatter",
         "x": [
          "2024-04-02",
          "2024-04-03",
          "2024-04-04",
          "2024-04-05",
          "2024-04-06",
          "2024-04-07",
          "2024-04-09",
          "2024-04-10",
          "2024-04-12",
          "2024-04-13",
          "2024-04-14",
          "2024-04-15",
          "2024-04-16",
          "2024-04-17",
          "2024-04-21",
          "2024-04-22",
          "2024-04-25",
          "2024-04-26",
          "2024-04-27",
          "2024-04-28",
          "2024-04-30",
          "2024-05-01"
         ],
         "y": [
          3.19,
          3.19,
          3.19,
          3.19,
          3.15,
          3.15,
          3.29,
          3.29,
          3.29,
          3.26,
          3.26,
          3.26,
          3.26,
          3.26,
          3.15,
          3.15,
          3.07,
          3.07,
          3.07,
          3.07,
          3.29,
          3.29
         ]
        },
        {
         "name": "The Corner - 824 E Fairview Ave",
         "type": "scatter",
         "x": [
          "2024-04-03",
          "2024-04-04",
          "2024-04-05",
          "2024-04-06",
          "2024-04-10",
          "2024-04-11",
          "2024-04-12",
          "2024-04-13",
          "2024-04-15",
          "2024-04-16",
          "2024-04-17",
          "2024-04-18",
          "2024-04-19",
          "2024-04-20",
          "2024-04-24",
          "2024-04-25",
          "2024-04-26",
          "2024-04-29",
          "2024-04-30",
          "2024-05-01"
         ],
         "y": [
          3.09,
          3.19,
          3.19,
          3.19,
          3.29,
          3.29,
          3.29,
          3.29,
          3.29,
          3.26,
          3.26,
          3.26,
          3.26,
          3.26,
          3.15,
          3.07,
          3.07,
          3.07,
          3.09,
          3.09
         ]
        },
        {
         "name": "Phillips 66 - 201 E Central Ave",
         "type": "scatter",
         "x": [
          "2024-04-05",
          "2024-04-06",
          "2024-04-08",
          "2024-04-09",
          "2024-04-10",
          "2024-04-11",
          "2024-04-12",
          "2024-04-13",
          "2024-04-14",
          "2024-04-15",
          "2024-04-16",
          "2024-04-17",
          "2024-04-18",
          "2024-04-19",
          "2024-04-20",
          "2024-04-21",
          "2024-04-22",
          "2024-04-24",
          "2024-04-25",
          "2024-04-26",
          "2024-04-27",
          "2024-04-28",
          "2024-04-30",
          "2024-05-01"
         ],
         "y": [
          3.19,
          3.19,
          3.15,
          3.15,
          3.29,
          3.29,
          3.29,
          3.26,
          3.26,
          3.26,
          3.26,
          3.26,
          3.22,
          3.22,
          3.15,
          3.15,
          3.15,
          3.07,
          3.07,
          3.07,
          3.07,
          3.07,
          3.29,
          3.29
         ]
        }
       ],
       "layout": {
        "autosize": true,
        "hovermode": "x",
        "template": {
         "data": {
          "bar": [
           {
            "error_x": {
             "color": "#2a3f5f"
            },
            "error_y": {
             "color": "#2a3f5f"
            },
            "marker": {
             "line": {
              "color": "#E5ECF6",
              "width": 0.5
             },
             "pattern": {
              "fillmode": "overlay",
              "size": 10,
              "solidity": 0.2
             }
            },
            "type": "bar"
           }
          ],
          "barpolar": [
           {
            "marker": {
             "line": {
              "color": "#E5ECF6",
              "width": 0.5
             },
             "pattern": {
              "fillmode": "overlay",
              "size": 10,
              "solidity": 0.2
             }
            },
            "type": "barpolar"
           }
          ],
          "carpet": [
           {
            "aaxis": {
             "endlinecolor": "#2a3f5f",
             "gridcolor": "white",
             "linecolor": "white",
             "minorgridcolor": "white",
             "startlinecolor": "#2a3f5f"
            },
            "baxis": {
             "endlinecolor": "#2a3f5f",
             "gridcolor": "white",
             "linecolor": "white",
             "minorgridcolor": "white",
             "startlinecolor": "#2a3f5f"
            },
            "type": "carpet"
           }
          ],
          "choropleth": [
           {
            "colorbar": {
             "outlinewidth": 0,
             "ticks": ""
            },
            "type": "choropleth"
           }
          ],
          "contour": [
           {
            "colorbar": {
             "outlinewidth": 0,
             "ticks": ""
            },
            "colorscale": [
             [
              0,
              "#0d0887"
             ],
             [
              0.1111111111111111,
              "#46039f"
             ],
             [
              0.2222222222222222,
              "#7201a8"
             ],
             [
              0.3333333333333333,
              "#9c179e"
             ],
             [
              0.4444444444444444,
              "#bd3786"
             ],
             [
              0.5555555555555556,
              "#d8576b"
             ],
             [
              0.6666666666666666,
              "#ed7953"
             ],
             [
              0.7777777777777778,
              "#fb9f3a"
             ],
             [
              0.8888888888888888,
              "#fdca26"
             ],
             [
              1,
              "#f0f921"
             ]
            ],
            "type": "contour"
           }
          ],
          "contourcarpet": [
           {
            "colorbar": {
             "outlinewidth": 0,
             "ticks": ""
            },
            "type": "contourcarpet"
           }
          ],
          "heatmap": [
           {
            "colorbar": {
             "outlinewidth": 0,
             "ticks": ""
            },
            "colorscale": [
             [
              0,
              "#0d0887"
             ],
             [
              0.1111111111111111,
              "#46039f"
             ],
             [
              0.2222222222222222,
              "#7201a8"
             ],
             [
              0.3333333333333333,
              "#9c179e"
             ],
             [
              0.4444444444444444,
              "#bd3786"
             ],
             [
              0.5555555555555556,
              "#d8576b"
             ],
             [
              0.6666666666666666,
              "#ed7953"
             ],
             [
              0.7777777777777778,
              "#fb9f3a"
             ],
             [
              0.8888888888888888,
              "#fdca26"
             ],
             [
              1,
              "#f0f921"
             ]
            ],
            "type": "heatmap"
           }
          ],
          "heatmapgl": [
           {
            "colorbar": {
             "outlinewidth": 0,
             "ticks": ""
            },
            "colorscale": [
             [
              0,
              "#0d0887"
             ],
             [
              0.1111111111111111,
              "#46039f"
             ],
             [
              0.2222222222222222,
              "#7201a8"
             ],
             [
              0.3333333333333333,
              "#9c179e"
             ],
             [
              0.4444444444444444,
              "#bd3786"
             ],
             [
              0.5555555555555556,
              "#d8576b"
             ],
             [
              0.6666666666666666,
              "#ed7953"
             ],
             [
              0.7777777777777778,
              "#fb9f3a"
             ],
             [
              0.8888888888888888,
              "#fdca26"
             ],
             [
              1,
              "#f0f921"
             ]
            ],
            "type": "heatmapgl"
           }
          ],
          "histogram": [
           {
            "marker": {
             "pattern": {
              "fillmode": "overlay",
              "size": 10,
              "solidity": 0.2
             }
            },
            "type": "histogram"
           }
          ],
          "histogram2d": [
           {
            "colorbar": {
             "outlinewidth": 0,
             "ticks": ""
            },
            "colorscale": [
             [
              0,
              "#0d0887"
             ],
             [
              0.1111111111111111,
              "#46039f"
             ],
             [
              0.2222222222222222,
              "#7201a8"
             ],
             [
              0.3333333333333333,
              "#9c179e"
             ],
             [
              0.4444444444444444,
              "#bd3786"
             ],
             [
              0.5555555555555556,
              "#d8576b"
             ],
             [
              0.6666666666666666,
              "#ed7953"
             ],
             [
              0.7777777777777778,
              "#fb9f3a"
             ],
             [
              0.8888888888888888,
              "#fdca26"
             ],
             [
              1,
              "#f0f921"
             ]
            ],
            "type": "histogram2d"
           }
          ],
          "histogram2dcontour": [
           {
            "colorbar": {
             "outlinewidth": 0,
             "ticks": ""
            },
            "colorscale": [
             [
              0,
              "#0d0887"
             ],
             [
              0.1111111111111111,
              "#46039f"
             ],
             [
              0.2222222222222222,
              "#7201a8"
             ],
             [
              0.3333333333333333,
              "#9c179e"
             ],
             [
              0.4444444444444444,
              "#bd3786"
             ],
             [
              0.5555555555555556,
              "#d8576b"
             ],
             [
              0.6666666666666666,
              "#ed7953"
             ],
             [
              0.7777777777777778,
              "#fb9f3a"
             ],
             [
              0.8888888888888888,
              "#fdca26"
             ],
             [
              1,
              "#f0f921"
             ]
            ],
            "type": "histogram2dcontour"
           }
          ],
          "mesh3d": [
           {
            "colorbar": {
             "outlinewidth": 0,
             "ticks": ""
            },
            "type": "mesh3d"
           }
          ],
          "parcoords": [
           {
            "line": {
             "colorbar": {
              "outlinewidth": 0,
              "ticks": ""
             }
            },
            "type": "parcoords"
           }
          ],
          "pie": [
           {
            "automargin": true,
            "type": "pie"
           }
          ],
          "scatter": [
           {
            "fillpattern": {
             "fillmode": "overlay",
             "size": 10,
             "solidity": 0.2
            },
            "type": "scatter"
           }
          ],
          "scatter3d": [
           {
            "line": {
             "colorbar": {
              "outlinewidth": 0,
              "ticks": ""
             }
            },
            "marker": {
             "colorbar": {
              "outlinewidth": 0,
              "ticks": ""
             }
            },
            "type": "scatter3d"
           }
          ],
          "scattercarpet": [
           {
            "marker": {
             "colorbar": {
              "outlinewidth": 0,
              "ticks": ""
             }
            },
            "type": "scattercarpet"
           }
          ],
          "scattergeo": [
           {
            "marker": {
             "colorbar": {
              "outlinewidth": 0,
              "ticks": ""
             }
            },
            "type": "scattergeo"
           }
          ],
          "scattergl": [
           {
            "marker": {
             "colorbar": {
              "outlinewidth": 0,
              "ticks": ""
             }
            },
            "type": "scattergl"
           }
          ],
          "scattermapbox": [
           {
            "marker": {
             "colorbar": {
              "outlinewidth": 0,
              "ticks": ""
             }
            },
            "type": "scattermapbox"
           }
          ],
          "scatterpolar": [
           {
            "marker": {
             "colorbar": {
              "outlinewidth": 0,
              "ticks": ""
             }
            },
            "type": "scatterpolar"
           }
          ],
          "scatterpolargl": [
           {
            "marker": {
             "colorbar": {
              "outlinewidth": 0,
              "ticks": ""
             }
            },
            "type": "scatterpolargl"
           }
          ],
          "scatterternary": [
           {
            "marker": {
             "colorbar": {
              "outlinewidth": 0,
              "ticks": ""
             }
            },
            "type": "scatterternary"
           }
          ],
          "surface": [
           {
            "colorbar": {
             "outlinewidth": 0,
             "ticks": ""
            },
            "colorscale": [
             [
              0,
              "#0d0887"
             ],
             [
              0.1111111111111111,
              "#46039f"
             ],
             [
              0.2222222222222222,
              "#7201a8"
             ],
             [
              0.3333333333333333,
              "#9c179e"
             ],
             [
              0.4444444444444444,
              "#bd3786"
             ],
             [
              0.5555555555555556,
              "#d8576b"
             ],
             [
              0.6666666666666666,
              "#ed7953"
             ],
             [
              0.7777777777777778,
              "#fb9f3a"
             ],
             [
              0.8888888888888888,
              "#fdca26"
             ],
             [
              1,
              "#f0f921"
             ]
            ],
            "type": "surface"
           }
          ],
          "table": [
           {
            "cells": {
             "fill": {
              "color": "#EBF0F8"
             },
             "line": {
              "color": "white"
             }
            },
            "header": {
             "fill": {
              "color": "#C8D4E3"
             },
             "line": {
              "color": "white"
             }
            },
            "type": "table"
           }
          ]
         },
         "layout": {
          "annotationdefaults": {
           "arrowcolor": "#2a3f5f",
           "arrowhead": 0,
           "arrowwidth": 1
          },
          "autotypenumbers": "strict",
          "coloraxis": {
           "colorbar": {
            "outlinewidth": 0,
            "ticks": ""
           }
          },
          "colorscale": {
           "diverging": [
            [
             0,
             "#8e0152"
            ],
            [
             0.1,
             "#c51b7d"
            ],
            [
             0.2,
             "#de77ae"
            ],
            [
             0.3,
             "#f1b6da"
            ],
            [
             0.4,
             "#fde0ef"
            ],
            [
             0.5,
             "#f7f7f7"
            ],
            [
             0.6,
             "#e6f5d0"
            ],
            [
             0.7,
             "#b8e186"
            ],
            [
             0.8,
             "#7fbc41"
            ],
            [
             0.9,
             "#4d9221"
            ],
            [
             1,
             "#276419"
            ]
           ],
           "sequential": [
            [
             0,
             "#0d0887"
            ],
            [
             0.1111111111111111,
             "#46039f"
            ],
            [
             0.2222222222222222,
             "#7201a8"
            ],
            [
             0.3333333333333333,
             "#9c179e"
            ],
            [
             0.4444444444444444,
             "#bd3786"
            ],
            [
             0.5555555555555556,
             "#d8576b"
            ],
            [
             0.6666666666666666,
             "#ed7953"
            ],
            [
             0.7777777777777778,
             "#fb9f3a"
            ],
            [
             0.8888888888888888,
             "#fdca26"
            ],
            [
             1,
             "#f0f921"
            ]
           ],
           "sequentialminus": [
            [
             0,
             "#0d0887"
            ],
            [
             0.1111111111111111,
             "#46039f"
            ],
            [
             0.2222222222222222,
             "#7201a8"
            ],
            [
             0.3333333333333333,
             "#9c179e"
            ],
            [
             0.4444444444444444,
             "#bd3786"
            ],
            [
             0.5555555555555556,
             "#d8576b"
            ],
            [
             0.6666666666666666,
             "#ed7953"
            ],
            [
             0.7777777777777778,
             "#fb9f3a"
            ],
            [
             0.8888888888888888,
             "#fdca26"
            ],
            [
             1,
             "#f0f921"
            ]
           ]
          },
          "colorway": [
           "#636efa",
           "#EF553B",
           "#00cc96",
           "#ab63fa",
           "#FFA15A",
           "#19d3f3",
           "#FF6692",
           "#B6E880",
           "#FF97FF",
           "#FECB52"
          ],
          "font": {
           "color": "#2a3f5f"
          },
          "geo": {
           "bgcolor": "white",
           "lakecolor": "white",
           "landcolor": "#E5ECF6",
           "showlakes": true,
           "showland": true,
           "subunitcolor": "white"
          },
          "hoverlabel": {
           "align": "left"
          },
          "hovermode": "closest",
          "mapbox": {
           "style": "light"
          },
          "paper_bgcolor": "white",
          "plot_bgcolor": "#E5ECF6",
          "polar": {
           "angularaxis": {
            "gridcolor": "white",
            "linecolor": "white",
            "ticks": ""
           },
           "bgcolor": "#E5ECF6",
           "radialaxis": {
            "gridcolor": "white",
            "linecolor": "white",
            "ticks": ""
           }
          },
          "scene": {
           "xaxis": {
            "backgroundcolor": "#E5ECF6",
            "gridcolor": "white",
            "gridwidth": 2,
            "linecolor": "white",
            "showbackground": true,
            "ticks": "",
            "zerolinecolor": "white"
           },
           "yaxis": {
            "backgroundcolor": "#E5ECF6",
            "gridcolor": "white",
            "gridwidth": 2,
            "linecolor": "white",
            "showbackground": true,
            "ticks": "",
            "zerolinecolor": "white"
           },
           "zaxis": {
            "backgroundcolor": "#E5ECF6",
            "gridcolor": "white",
            "gridwidth": 2,
            "linecolor": "white",
            "showbackground": true,
            "ticks": "",
            "zerolinecolor": "white"
           }
          },
          "shapedefaults": {
           "line": {
            "color": "#2a3f5f"
           }
          },
          "ternary": {
           "aaxis": {
            "gridcolor": "white",
            "linecolor": "white",
            "ticks": ""
           },
           "baxis": {
            "gridcolor": "white",
            "linecolor": "white",
            "ticks": ""
           },
           "bgcolor": "#E5ECF6",
           "caxis": {
            "gridcolor": "white",
            "linecolor": "white",
            "ticks": ""
           }
          },
          "title": {
           "x": 0.05
          },
          "xaxis": {
           "automargin": true,
           "gridcolor": "white",
           "linecolor": "white",
           "ticks": "",
           "title": {
            "standoff": 15
           },
           "zerolinecolor": "white",
           "zerolinewidth": 2
          },
          "yaxis": {
           "automargin": true,
           "gridcolor": "white",
           "linecolor": "white",
           "ticks": "",
           "title": {
            "standoff": 15
           },
           "zerolinecolor": "white",
           "zerolinewidth": 2
          }
         }
        },
        "title": {
         "text": "Fuel Price Time Series by Station"
        },
        "xaxis": {
         "autorange": true,
         "range": [
          "2024-03-31 08:29:27.5744",
          "2024-05-01"
         ],
         "type": "date"
        },
        "yaxis": {
         "autorange": true,
         "range": [
          3.0048496993987976,
          3.3078557114228455
         ],
         "type": "linear"
        }
       }
      },
      "image/png": "[encoded data removed]",
      "text/html": [
       "<div>                            <div id=\"b3a9da72-11c2-496c-923b-7d0b3eb51db2\" class=\"plotly-graph-div\" style=\"height:600px; width:100%;\"></div>            <script type=\"text/javascript\">                require([\"plotly\"], function(Plotly) {                    window.PLOTLYENV=window.PLOTLYENV || {};                                    if (document.getElementById(\"b3a9da72-11c2-496c-923b-7d0b3eb51db2\")) {                    Plotly.newPlot(                        \"b3a9da72-11c2-496c-923b-7d0b3eb51db2\",                        [{\"name\":\"Murphy USA - 2635 Grand Ave\",\"x\":[\"2024-04-02\",\"2024-04-03\",\"2024-04-04\",\"2024-04-05\",\"2024-04-06\",\"2024-04-07\",\"2024-04-08\",\"2024-04-09\",\"2024-04-10\",\"2024-04-11\",\"2024-04-12\",\"2024-04-13\",\"2024-04-14\",\"2024-04-15\",\"2024-04-16\",\"2024-04-17\",\"2024-04-18\",\"2024-04-19\",\"2024-04-20\",\"2024-04-21\",\"2024-04-22\",\"2024-04-23\",\"2024-04-24\",\"2024-04-25\",\"2024-04-26\",\"2024-04-27\",\"2024-04-28\",\"2024-04-29\",\"2024-04-30\",\"2024-05-01\"],\"y\":[3.02,3.19,3.15,3.12,3.09,3.09,3.04,3.29,3.26,3.26,3.23,3.23,3.23,3.19,3.19,3.15,3.11,3.11,3.11,3.09,3.04,3.03,3.03,3.03,3.03,3.03,3.03,3.03,3.03,3.03],\"type\":\"scatter\"},{\"name\":\"Phillips 66 - 2812 Hazel St\",\"x\":[\"2024-04-02\",\"2024-04-03\",\"2024-04-04\",\"2024-04-05\",\"2024-04-06\",\"2024-04-07\",\"2024-04-08\",\"2024-04-09\",\"2024-04-10\",\"2024-04-11\",\"2024-04-13\",\"2024-04-14\",\"2024-04-17\",\"2024-04-18\",\"2024-04-19\",\"2024-04-20\",\"2024-04-21\",\"2024-04-23\",\"2024-04-24\",\"2024-04-25\",\"2024-04-26\",\"2024-04-27\",\"2024-04-28\",\"2024-04-29\",\"2024-04-30\",\"2024-05-01\"],\"y\":[3.06,3.19,3.19,3.19,3.19,3.19,3.1,3.1,3.1,3.1,3.26,3.26,3.22,3.15,3.15,3.15,3.15,3.07,3.07,3.07,3.07,3.07,3.07,3.07,3.29,3.29],\"type\":\"scatter\"},{\"name\":\"Casey's - 2214 Fairlawn Ave\",\"x\":[\"2024-04-02\",\"2024-04-03\",\"2024-04-04\",\"2024-04-05\",\"2024-04-06\",\"2024-04-07\",\"2024-04-08\",\"2024-04-09\",\"2024-04-10\",\"2024-04-11\",\"2024-04-12\",\"2024-04-13\",\"2024-04-14\",\"2024-04-15\",\"2024-04-16\",\"2024-04-17\",\"2024-04-18\",\"2024-04-19\",\"2024-04-20\",\"2024-04-21\",\"2024-04-22\",\"2024-04-23\",\"2024-04-24\",\"2024-04-25\",\"2024-04-26\",\"2024-04-27\",\"2024-04-28\",\"2024-04-29\",\"2024-04-30\",\"2024-05-01\"],\"y\":[3.19,3.19,3.19,3.19,3.15,3.15,3.1,3.29,3.29,3.29,3.29,3.26,3.26,3.26,3.22,3.22,3.15,3.15,3.15,3.12,3.1,3.07,3.07,3.07,3.07,3.07,3.07,3.07,3.29,3.29],\"type\":\"scatter\"},{\"name\":\"Casey's - 917 W Central Ave\",\"x\":[\"2024-04-02\",\"2024-04-03\",\"2024-04-04\",\"2024-04-05\",\"2024-04-06\",\"2024-04-07\",\"2024-04-08\",\"2024-04-09\",\"2024-04-10\",\"2024-04-11\",\"2024-04-12\",\"2024-04-13\",\"2024-04-14\",\"2024-04-15\",\"2024-04-16\",\"2024-04-17\",\"2024-04-18\",\"2024-04-19\",\"2024-04-20\",\"2024-04-21\",\"2024-04-22\",\"2024-04-23\",\"2024-04-24\",\"2024-04-25\",\"2024-04-26\",\"2024-04-27\",\"2024-04-28\",\"2024-04-29\",\"2024-04-30\",\"2024-05-01\"],\"y\":[3.19,3.19,3.19,3.19,3.15,3.15,3.1,3.29,3.29,3.29,3.29,3.26,3.26,3.26,3.22,3.22,3.15,3.15,3.15,3.12,3.1,3.07,3.07,3.07,3.07,3.07,3.07,3.07,3.29,3.29],\"type\":\"scatter\"},{\"name\":\"Flyin W - 13011 MO-96\",\"x\":[\"2024-04-02\",\"2024-04-03\",\"2024-04-04\",\"2024-04-05\",\"2024-04-06\",\"2024-04-07\",\"2024-04-09\",\"2024-04-10\",\"2024-04-11\",\"2024-04-12\",\"2024-04-13\",\"2024-04-14\",\"2024-04-18\",\"2024-04-19\",\"2024-04-20\",\"2024-04-21\",\"2024-04-22\",\"2024-04-23\",\"2024-04-24\"],\"y\":[3.19,3.19,3.19,3.19,3.19,3.19,3.29,3.29,3.29,3.29,3.29,3.29,3.22,3.22,3.22,3.15,3.15,3.1,3.1],\"type\":\"scatter\"},{\"name\":\"Phillips 66 - 1224 W Central Ave\",\"x\":[\"2024-04-02\",\"2024-04-03\",\"2024-04-04\",\"2024-04-05\",\"2024-04-06\",\"2024-04-07\",\"2024-04-09\",\"2024-04-10\",\"2024-04-12\",\"2024-04-13\",\"2024-04-14\",\"2024-04-15\",\"2024-04-16\",\"2024-04-17\",\"2024-04-21\",\"2024-04-22\",\"2024-04-25\",\"2024-04-26\",\"2024-04-27\",\"2024-04-28\",\"2024-04-30\",\"2024-05-01\"],\"y\":[3.19,3.19,3.19,3.19,3.15,3.15,3.29,3.29,3.29,3.26,3.26,3.26,3.26,3.26,3.15,3.15,3.07,3.07,3.07,3.07,3.29,3.29],\"type\":\"scatter\"},{\"name\":\"The Corner - 824 E Fairview Ave\",\"x\":[\"2024-04-03\",\"2024-04-04\",\"2024-04-05\",\"2024-04-06\",\"2024-04-10\",\"2024-04-11\",\"2024-04-12\",\"2024-04-13\",\"2024-04-15\",\"2024-04-16\",\"2024-04-17\",\"2024-04-18\",\"2024-04-19\",\"2024-04-20\",\"2024-04-24\",\"2024-04-25\",\"2024-04-26\",\"2024-04-29\",\"2024-04-30\",\"2024-05-01\"],\"y\":[3.09,3.19,3.19,3.19,3.29,3.29,3.29,3.29,3.29,3.26,3.26,3.26,3.26,3.26,3.15,3.07,3.07,3.07,3.09,3.09],\"type\":\"scatter\"},{\"name\":\"Phillips 66 - 201 E Central Ave\",\"x\":[\"2024-04-05\",\"2024-04-06\",\"2024-04-08\",\"2024-04-09\",\"2024-04-10\",\"2024-04-11\",\"2024-04-12\",\"2024-04-13\",\"2024-04-14\",\"2024-04-15\",\"2024-04-16\",\"2024-04-17\",\"2024-04-18\",\"2024-04-19\",\"2024-04-20\",\"2024-04-21\",\"2024-04-22\",\"2024-04-24\",\"2024-04-25\",\"2024-04-26\",\"2024-04-27\",\"2024-04-28\",\"2024-04-30\",\"2024-05-01\"],\"y\":[3.19,3.19,3.15,3.15,3.29,3.29,3.29,3.26,3.26,3.26,3.26,3.26,3.22,3.22,3.15,3.15,3.15,3.07,3.07,3.07,3.07,3.07,3.29,3.29],\"type\":\"scatter\"}],                        {\"height\":600,\"hovermode\":\"x\",\"template\":{\"data\":{\"barpolar\":[{\"marker\":{\"line\":{\"color\":\"#E5ECF6\",\"width\":0.5},\"pattern\":{\"fillmode\":\"overlay\",\"size\":10,\"solidity\":0.2}},\"type\":\"barpolar\"}],\"bar\":[{\"error_x\":{\"color\":\"#2a3f5f\"},\"error_y\":{\"color\":\"#2a3f5f\"},\"marker\":{\"line\":{\"color\":\"#E5ECF6\",\"width\":0.5},\"pattern\":{\"fillmode\":\"overlay\",\"size\":10,\"solidity\":0.2}},\"type\":\"bar\"}],\"carpet\":[{\"aaxis\":{\"endlinecolor\":\"#2a3f5f\",\"gridcolor\":\"white\",\"linecolor\":\"white\",\"minorgridcolor\":\"white\",\"startlinecolor\":\"#2a3f5f\"},\"baxis\":{\"endlinecolor\":\"#2a3f5f\",\"gridcolor\":\"white\",\"linecolor\":\"white\",\"minorgridcolor\":\"white\",\"startlinecolor\":\"#2a3f5f\"},\"type\":\"carpet\"}],\"choropleth\":[{\"colorbar\":{\"outlinewidth\":0,\"ticks\":\"\"},\"type\":\"choropleth\"}],\"contourcarpet\":[{\"colorbar\":{\"outlinewidth\":0,\"ticks\":\"\"},\"type\":\"contourcarpet\"}],\"contour\":[{\"colorbar\":{\"outlinewidth\":0,\"ticks\":\"\"},\"colorscale\":[[0.0,\"#0d0887\"],[0.1111111111111111,\"#46039f\"],[0.2222222222222222,\"#7201a8\"],[0.3333333333333333,\"#9c179e\"],[0.4444444444444444,\"#bd3786\"],[0.5555555555555556,\"#d8576b\"],[0.6666666666666666,\"#ed7953\"],[0.7777777777777778,\"#fb9f3a\"],[0.8888888888888888,\"#fdca26\"],[1.0,\"#f0f921\"]],\"type\":\"contour\"}],\"heatmapgl\":[{\"colorbar\":{\"outlinewidth\":0,\"ticks\":\"\"},\"colorscale\":[[0.0,\"#0d0887\"],[0.1111111111111111,\"#46039f\"],[0.2222222222222222,\"#7201a8\"],[0.3333333333333333,\"#9c179e\"],[0.4444444444444444,\"#bd3786\"],[0.5555555555555556,\"#d8576b\"],[0.6666666666666666,\"#ed7953\"],[0.7777777777777778,\"#fb9f3a\"],[0.8888888888888888,\"#fdca26\"],[1.0,\"#f0f921\"]],\"type\":\"heatmapgl\"}],\"heatmap\":[{\"colorbar\":{\"outlinewidth\":0,\"ticks\":\"\"},\"colorscale\":[[0.0,\"#0d0887\"],[0.1111111111111111,\"#46039f\"],[0.2222222222222222,\"#7201a8\"],[0.3333333333333333,\"#9c179e\"],[0.4444444444444444,\"#bd3786\"],[0.5555555555555556,\"#d8576b\"],[0.6666666666666666,\"#ed7953\"],[0.7777777777777778,\"#fb9f3a\"],[0.8888888888888888,\"#fdca26\"],[1.0,\"#f0f921\"]],\"type\":\"heatmap\"}],\"histogram2dcontour\":[{\"colorbar\":{\"outlinewidth\":0,\"ticks\":\"\"},\"colorscale\":[[0.0,\"#0d0887\"],[0.1111111111111111,\"#46039f\"],[0.2222222222222222,\"#7201a8\"],[0.3333333333333333,\"#9c179e\"],[0.4444444444444444,\"#bd3786\"],[0.5555555555555556,\"#d8576b\"],[0.6666666666666666,\"#ed7953\"],[0.7777777777777778,\"#fb9f3a\"],[0.8888888888888888,\"#fdca26\"],[1.0,\"#f0f921\"]],\"type\":\"histogram2dcontour\"}],\"histogram2d\":[{\"colorbar\":{\"outlinewidth\":0,\"ticks\":\"\"},\"colorscale\":[[0.0,\"#0d0887\"],[0.1111111111111111,\"#46039f\"],[0.2222222222222222,\"#7201a8\"],[0.3333333333333333,\"#9c179e\"],[0.4444444444444444,\"#bd3786\"],[0.5555555555555556,\"#d8576b\"],[0.6666666666666666,\"#ed7953\"],[0.7777777777777778,\"#fb9f3a\"],[0.8888888888888888,\"#fdca26\"],[1.0,\"#f0f921\"]],\"type\":\"histogram2d\"}],\"histogram\":[{\"marker\":{\"pattern\":{\"fillmode\":\"overlay\",\"size\":10,\"solidity\":0.2}},\"type\":\"histogram\"}],\"mesh3d\":[{\"colorbar\":{\"outlinewidth\":0,\"ticks\":\"\"},\"type\":\"mesh3d\"}],\"parcoords\":[{\"line\":{\"colorbar\":{\"outlinewidth\":0,\"ticks\":\"\"}},\"type\":\"parcoords\"}],\"pie\":[{\"automargin\":true,\"type\":\"pie\"}],\"scatter3d\":[{\"line\":{\"colorbar\":{\"outlinewidth\":0,\"ticks\":\"\"}},\"marker\":{\"colorbar\":{\"outlinewidth\":0,\"ticks\":\"\"}},\"type\":\"scatter3d\"}],\"scattercarpet\":[{\"marker\":{\"colorbar\":{\"outlinewidth\":0,\"ticks\":\"\"}},\"type\":\"scattercarpet\"}],\"scattergeo\":[{\"marker\":{\"colorbar\":{\"outlinewidth\":0,\"ticks\":\"\"}},\"type\":\"scattergeo\"}],\"scattergl\":[{\"marker\":{\"colorbar\":{\"outlinewidth\":0,\"ticks\":\"\"}},\"type\":\"scattergl\"}],\"scattermapbox\":[{\"marker\":{\"colorbar\":{\"outlinewidth\":0,\"ticks\":\"\"}},\"type\":\"scattermapbox\"}],\"scatterpolargl\":[{\"marker\":{\"colorbar\":{\"outlinewidth\":0,\"ticks\":\"\"}},\"type\":\"scatterpolargl\"}],\"scatterpolar\":[{\"marker\":{\"colorbar\":{\"outlinewidth\":0,\"ticks\":\"\"}},\"type\":\"scatterpolar\"}],\"scatter\":[{\"fillpattern\":{\"fillmode\":\"overlay\",\"size\":10,\"solidity\":0.2},\"type\":\"scatter\"}],\"scatterternary\":[{\"marker\":{\"colorbar\":{\"outlinewidth\":0,\"ticks\":\"\"}},\"type\":\"scatterternary\"}],\"surface\":[{\"colorbar\":{\"outlinewidth\":0,\"ticks\":\"\"},\"colorscale\":[[0.0,\"#0d0887\"],[0.1111111111111111,\"#46039f\"],[0.2222222222222222,\"#7201a8\"],[0.3333333333333333,\"#9c179e\"],[0.4444444444444444,\"#bd3786\"],[0.5555555555555556,\"#d8576b\"],[0.6666666666666666,\"#ed7953\"],[0.7777777777777778,\"#fb9f3a\"],[0.8888888888888888,\"#fdca26\"],[1.0,\"#f0f921\"]],\"type\":\"surface\"}],\"table\":[{\"cells\":{\"fill\":{\"color\":\"#EBF0F8\"},\"line\":{\"color\":\"white\"}},\"header\":{\"fill\":{\"color\":\"#C8D4E3\"},\"line\":{\"color\":\"white\"}},\"type\":\"table\"}]},\"layout\":{\"annotationdefaults\":{\"arrowcolor\":\"#2a3f5f\",\"arrowhead\":0,\"arrowwidth\":1},\"autotypenumbers\":\"strict\",\"coloraxis\":{\"colorbar\":{\"outlinewidth\":0,\"ticks\":\"\"}},\"colorscale\":{\"diverging\":[[0,\"#8e0152\"],[0.1,\"#c51b7d\"],[0.2,\"#de77ae\"],[0.3,\"#f1b6da\"],[0.4,\"#fde0ef\"],[0.5,\"#f7f7f7\"],[0.6,\"#e6f5d0\"],[0.7,\"#b8e186\"],[0.8,\"#7fbc41\"],[0.9,\"#4d9221\"],[1,\"#276419\"]],\"sequential\":[[0.0,\"#0d0887\"],[0.1111111111111111,\"#46039f\"],[0.2222222222222222,\"#7201a8\"],[0.3333333333333333,\"#9c179e\"],[0.4444444444444444,\"#bd3786\"],[0.5555555555555556,\"#d8576b\"],[0.6666666666666666,\"#ed7953\"],[0.7777777777777778,\"#fb9f3a\"],[0.8888888888888888,\"#fdca26\"],[1.0,\"#f0f921\"]],\"sequentialminus\":[[0.0,\"#0d0887\"],[0.1111111111111111,\"#46039f\"],[0.2222222222222222,\"#7201a8\"],[0.3333333333333333,\"#9c179e\"],[0.4444444444444444,\"#bd3786\"],[0.5555555555555556,\"#d8576b\"],[0.6666666666666666,\"#ed7953\"],[0.7777777777777778,\"#fb9f3a\"],[0.8888888888888888,\"#fdca26\"],[1.0,\"#f0f921\"]]},\"colorway\":[\"#636efa\",\"#EF553B\",\"#00cc96\",\"#ab63fa\",\"#FFA15A\",\"#19d3f3\",\"#FF6692\",\"#B6E880\",\"#FF97FF\",\"#FECB52\"],\"font\":{\"color\":\"#2a3f5f\"},\"geo\":{\"bgcolor\":\"white\",\"lakecolor\":\"white\",\"landcolor\":\"#E5ECF6\",\"showlakes\":true,\"showland\":true,\"subunitcolor\":\"white\"},\"hoverlabel\":{\"align\":\"left\"},\"hovermode\":\"closest\",\"mapbox\":{\"style\":\"light\"},\"paper_bgcolor\":\"white\",\"plot_bgcolor\":\"#E5ECF6\",\"polar\":{\"angularaxis\":{\"gridcolor\":\"white\",\"linecolor\":\"white\",\"ticks\":\"\"},\"bgcolor\":\"#E5ECF6\",\"radialaxis\":{\"gridcolor\":\"white\",\"linecolor\":\"white\",\"ticks\":\"\"}},\"scene\":{\"xaxis\":{\"backgroundcolor\":\"#E5ECF6\",\"gridcolor\":\"white\",\"gridwidth\":2,\"linecolor\":\"white\",\"showbackground\":true,\"ticks\":\"\",\"zerolinecolor\":\"white\"},\"yaxis\":{\"backgroundcolor\":\"#E5ECF6\",\"gridcolor\":\"white\",\"gridwidth\":2,\"linecolor\":\"white\",\"showbackground\":true,\"ticks\":\"\",\"zerolinecolor\":\"white\"},\"zaxis\":{\"backgroundcolor\":\"#E5ECF6\",\"gridcolor\":\"white\",\"gridwidth\":2,\"linecolor\":\"white\",\"showbackground\":true,\"ticks\":\"\",\"zerolinecolor\":\"white\"}},\"shapedefaults\":{\"line\":{\"color\":\"#2a3f5f\"}},\"ternary\":{\"aaxis\":{\"gridcolor\":\"white\",\"linecolor\":\"white\",\"ticks\":\"\"},\"baxis\":{\"gridcolor\":\"white\",\"linecolor\":\"white\",\"ticks\":\"\"},\"bgcolor\":\"#E5ECF6\",\"caxis\":{\"gridcolor\":\"white\",\"linecolor\":\"white\",\"ticks\":\"\"}},\"title\":{\"x\":0.05},\"xaxis\":{\"automargin\":true,\"gridcolor\":\"white\",\"linecolor\":\"white\",\"ticks\":\"\",\"title\":{\"standoff\":15},\"zerolinecolor\":\"white\",\"zerolinewidth\":2},\"yaxis\":{\"automargin\":true,\"gridcolor\":\"white\",\"linecolor\":\"white\",\"ticks\":\"\",\"title\":{\"standoff\":15},\"zerolinecolor\":\"white\",\"zerolinewidth\":2}}},\"title\":{\"text\":\"Fuel Price Time Series by Station\"}},                        {\"responsive\": true}                    ).then(function(){\n",
       "                            \n",
       "var gd = document.getElementById('b3a9da72-11c2-496c-923b-7d0b3eb51db2');\n",
       "var x = new MutationObserver(function (mutations, observer) {{\n",
       "        var display = window.getComputedStyle(gd).display;\n",
       "        if (!display || display === 'none') {{\n",
       "            console.log([gd, 'removed!']);\n",
       "            Plotly.purge(gd);\n",
       "            observer.disconnect();\n",
       "        }}\n",
       "}});\n",
       "\n",
       "// Listen for the removal of the full notebook cells\n",
       "var notebookContainer = gd.closest('#notebook-container');\n",
       "if (notebookContainer) {{\n",
       "    x.observe(notebookContainer, {childList: true});\n",
       "}}\n",
       "\n",
       "// Listen for the clearing of the current output cell\n",
       "var outputEl = gd.closest('.output');\n",
       "if (outputEl) {{\n",
       "    x.observe(outputEl, {childList: true});\n",
       "}}\n",
       "\n",
       "                        })                };                });            </script>        </div>"
      ]
     },
     "metadata": {},
     "output_type": "display_data"
    }
   ],
   "source": [
    "def build_fuel_type_station_traces(fuel_type: str) -> list:\n",
    "    station_traces = []\n",
    "    for address in df['Address'].unique():\n",
    "        trace = get_time_series_by_fuel_type_address(df,fuel_type, address)\n",
    "        if trace is None:\n",
    "            continue\n",
    "        station_traces.append(trace)\n",
    "    return station_traces\n",
    "\n",
    "station_traces = build_fuel_type_station_traces('regular')\n",
    "\n",
    "layout = {\n",
    "    'height':600,\n",
    "    #'yaxis': {'range':[3,4.2], 'dtick': 0.1},\n",
    "    'title': {'text':'Fuel Price Time Series by Station'},\n",
    "    'hovermode':'x'\n",
    "}\n",
    "    \n",
    "fig = go.Figure(data=station_traces, layout=layout)\n",
    "iplot(fig)"
   ]
  },
  {
   "cell_type": "markdown",
   "id": "9cd89236-f0f4-489d-a090-4e7885636367",
   "metadata": {},
   "source": [
    "# Max, Min, Average"
   ]
  },
  {
   "cell_type": "code",
   "execution_count": 51,
   "id": "b62b52cb-2a50-4f7d-9f32-ccbd8bf0aca4",
   "metadata": {},
   "outputs": [
    {
     "data": {
      "application/vnd.plotly.v1+json": {
       "config": {
        "linkText": "Export to plot.ly",
        "plotlyServerURL": "https://plot.ly",
        "showLink": false
       },
       "data": [
        {
         "line": {
          "color": "gray",
          "dash": "dash"
         },
         "name": "Average",
         "type": "scatter",
         "x": [
          "2024-04-02",
          "2024-04-03",
          "2024-04-04",
          "2024-04-05",
          "2024-04-06",
          "2024-04-07",
          "2024-04-08",
          "2024-04-09",
          "2024-04-10",
          "2024-04-11",
          "2024-04-12",
          "2024-04-13",
          "2024-04-14",
          "2024-04-15",
          "2024-04-16",
          "2024-04-17",
          "2024-04-18",
          "2024-04-19",
          "2024-04-20",
          "2024-04-21",
          "2024-04-22",
          "2024-04-23",
          "2024-04-24",
          "2024-04-25",
          "2024-04-26",
          "2024-04-27",
          "2024-04-28",
          "2024-04-29",
          "2024-04-30",
          "2024-05-01"
         ],
         "y": [
          3.14,
          3.1757142857142857,
          3.184285714285714,
          3.18125,
          3.1625,
          3.153333333333333,
          3.098,
          3.242857142857143,
          3.2625,
          3.2585714285714285,
          3.281428571428571,
          3.26375,
          3.2600000000000002,
          3.2533333333333334,
          3.235,
          3.2271428571428573,
          3.1799999999999997,
          3.1799999999999997,
          3.1699999999999995,
          3.132857142857143,
          3.115,
          3.068,
          3.0799999999999996,
          3.064285714285714,
          3.064285714285714,
          3.063333333333333,
          3.063333333333333,
          3.062,
          3.224285714285714,
          3.224285714285714
         ]
        },
        {
         "name": "Max",
         "type": "scatter",
         "x": [
          "2024-04-02",
          "2024-04-03",
          "2024-04-04",
          "2024-04-05",
          "2024-04-06",
          "2024-04-07",
          "2024-04-08",
          "2024-04-09",
          "2024-04-10",
          "2024-04-11",
          "2024-04-12",
          "2024-04-13",
          "2024-04-14",
          "2024-04-15",
          "2024-04-16",
          "2024-04-17",
          "2024-04-18",
          "2024-04-19",
          "2024-04-20",
          "2024-04-21",
          "2024-04-22",
          "2024-04-23",
          "2024-04-24",
          "2024-04-25",
          "2024-04-26",
          "2024-04-27",
          "2024-04-28",
          "2024-04-29",
          "2024-04-30",
          "2024-05-01"
         ],
         "y": [
          3.19,
          3.19,
          3.19,
          3.19,
          3.19,
          3.19,
          3.15,
          3.29,
          3.29,
          3.29,
          3.29,
          3.29,
          3.29,
          3.29,
          3.26,
          3.26,
          3.26,
          3.26,
          3.26,
          3.15,
          3.15,
          3.1,
          3.15,
          3.07,
          3.07,
          3.07,
          3.07,
          3.07,
          3.29,
          3.29
         ]
        },
        {
         "fill": "tonexty",
         "line": {
          "color": "blue"
         },
         "name": "Min",
         "type": "scatter",
         "x": [
          "2024-04-02",
          "2024-04-03",
          "2024-04-04",
          "2024-04-05",
          "2024-04-06",
          "2024-04-07",
          "2024-04-08",
          "2024-04-09",
          "2024-04-10",
          "2024-04-11",
          "2024-04-12",
          "2024-04-13",
          "2024-04-14",
          "2024-04-15",
          "2024-04-16",
          "2024-04-17",
          "2024-04-18",
          "2024-04-19",
          "2024-04-20",
          "2024-04-21",
          "2024-04-22",
          "2024-04-23",
          "2024-04-24",
          "2024-04-25",
          "2024-04-26",
          "2024-04-27",
          "2024-04-28",
          "2024-04-29",
          "2024-04-30",
          "2024-05-01"
         ],
         "y": [
          3.02,
          3.09,
          3.15,
          3.12,
          3.09,
          3.09,
          3.04,
          3.1,
          3.1,
          3.1,
          3.23,
          3.23,
          3.23,
          3.19,
          3.19,
          3.15,
          3.11,
          3.11,
          3.11,
          3.09,
          3.04,
          3.03,
          3.03,
          3.03,
          3.03,
          3.03,
          3.03,
          3.03,
          3.03,
          3.03
         ]
        }
       ],
       "layout": {
        "autosize": true,
        "hovermode": "x",
        "template": {
         "data": {
          "bar": [
           {
            "error_x": {
             "color": "#2a3f5f"
            },
            "error_y": {
             "color": "#2a3f5f"
            },
            "marker": {
             "line": {
              "color": "#E5ECF6",
              "width": 0.5
             },
             "pattern": {
              "fillmode": "overlay",
              "size": 10,
              "solidity": 0.2
             }
            },
            "type": "bar"
           }
          ],
          "barpolar": [
           {
            "marker": {
             "line": {
              "color": "#E5ECF6",
              "width": 0.5
             },
             "pattern": {
              "fillmode": "overlay",
              "size": 10,
              "solidity": 0.2
             }
            },
            "type": "barpolar"
           }
          ],
          "carpet": [
           {
            "aaxis": {
             "endlinecolor": "#2a3f5f",
             "gridcolor": "white",
             "linecolor": "white",
             "minorgridcolor": "white",
             "startlinecolor": "#2a3f5f"
            },
            "baxis": {
             "endlinecolor": "#2a3f5f",
             "gridcolor": "white",
             "linecolor": "white",
             "minorgridcolor": "white",
             "startlinecolor": "#2a3f5f"
            },
            "type": "carpet"
           }
          ],
          "choropleth": [
           {
            "colorbar": {
             "outlinewidth": 0,
             "ticks": ""
            },
            "type": "choropleth"
           }
          ],
          "contour": [
           {
            "colorbar": {
             "outlinewidth": 0,
             "ticks": ""
            },
            "colorscale": [
             [
              0,
              "#0d0887"
             ],
             [
              0.1111111111111111,
              "#46039f"
             ],
             [
              0.2222222222222222,
              "#7201a8"
             ],
             [
              0.3333333333333333,
              "#9c179e"
             ],
             [
              0.4444444444444444,
              "#bd3786"
             ],
             [
              0.5555555555555556,
              "#d8576b"
             ],
             [
              0.6666666666666666,
              "#ed7953"
             ],
             [
              0.7777777777777778,
              "#fb9f3a"
             ],
             [
              0.8888888888888888,
              "#fdca26"
             ],
             [
              1,
              "#f0f921"
             ]
            ],
            "type": "contour"
           }
          ],
          "contourcarpet": [
           {
            "colorbar": {
             "outlinewidth": 0,
             "ticks": ""
            },
            "type": "contourcarpet"
           }
          ],
          "heatmap": [
           {
            "colorbar": {
             "outlinewidth": 0,
             "ticks": ""
            },
            "colorscale": [
             [
              0,
              "#0d0887"
             ],
             [
              0.1111111111111111,
              "#46039f"
             ],
             [
              0.2222222222222222,
              "#7201a8"
             ],
             [
              0.3333333333333333,
              "#9c179e"
             ],
             [
              0.4444444444444444,
              "#bd3786"
             ],
             [
              0.5555555555555556,
              "#d8576b"
             ],
             [
              0.6666666666666666,
              "#ed7953"
             ],
             [
              0.7777777777777778,
              "#fb9f3a"
             ],
             [
              0.8888888888888888,
              "#fdca26"
             ],
             [
              1,
              "#f0f921"
             ]
            ],
            "type": "heatmap"
           }
          ],
          "heatmapgl": [
           {
            "colorbar": {
             "outlinewidth": 0,
             "ticks": ""
            },
            "colorscale": [
             [
              0,
              "#0d0887"
             ],
             [
              0.1111111111111111,
              "#46039f"
             ],
             [
              0.2222222222222222,
              "#7201a8"
             ],
             [
              0.3333333333333333,
              "#9c179e"
             ],
             [
              0.4444444444444444,
              "#bd3786"
             ],
             [
              0.5555555555555556,
              "#d8576b"
             ],
             [
              0.6666666666666666,
              "#ed7953"
             ],
             [
              0.7777777777777778,
              "#fb9f3a"
             ],
             [
              0.8888888888888888,
              "#fdca26"
             ],
             [
              1,
              "#f0f921"
             ]
            ],
            "type": "heatmapgl"
           }
          ],
          "histogram": [
           {
            "marker": {
             "pattern": {
              "fillmode": "overlay",
              "size": 10,
              "solidity": 0.2
             }
            },
            "type": "histogram"
           }
          ],
          "histogram2d": [
           {
            "colorbar": {
             "outlinewidth": 0,
             "ticks": ""
            },
            "colorscale": [
             [
              0,
              "#0d0887"
             ],
             [
              0.1111111111111111,
              "#46039f"
             ],
             [
              0.2222222222222222,
              "#7201a8"
             ],
             [
              0.3333333333333333,
              "#9c179e"
             ],
             [
              0.4444444444444444,
              "#bd3786"
             ],
             [
              0.5555555555555556,
              "#d8576b"
             ],
             [
              0.6666666666666666,
              "#ed7953"
             ],
             [
              0.7777777777777778,
              "#fb9f3a"
             ],
             [
              0.8888888888888888,
              "#fdca26"
             ],
             [
              1,
              "#f0f921"
             ]
            ],
            "type": "histogram2d"
           }
          ],
          "histogram2dcontour": [
           {
            "colorbar": {
             "outlinewidth": 0,
             "ticks": ""
            },
            "colorscale": [
             [
              0,
              "#0d0887"
             ],
             [
              0.1111111111111111,
              "#46039f"
             ],
             [
              0.2222222222222222,
              "#7201a8"
             ],
             [
              0.3333333333333333,
              "#9c179e"
             ],
             [
              0.4444444444444444,
              "#bd3786"
             ],
             [
              0.5555555555555556,
              "#d8576b"
             ],
             [
              0.6666666666666666,
              "#ed7953"
             ],
             [
              0.7777777777777778,
              "#fb9f3a"
             ],
             [
              0.8888888888888888,
              "#fdca26"
             ],
             [
              1,
              "#f0f921"
             ]
            ],
            "type": "histogram2dcontour"
           }
          ],
          "mesh3d": [
           {
            "colorbar": {
             "outlinewidth": 0,
             "ticks": ""
            },
            "type": "mesh3d"
           }
          ],
          "parcoords": [
           {
            "line": {
             "colorbar": {
              "outlinewidth": 0,
              "ticks": ""
             }
            },
            "type": "parcoords"
           }
          ],
          "pie": [
           {
            "automargin": true,
            "type": "pie"
           }
          ],
          "scatter": [
           {
            "fillpattern": {
             "fillmode": "overlay",
             "size": 10,
             "solidity": 0.2
            },
            "type": "scatter"
           }
          ],
          "scatter3d": [
           {
            "line": {
             "colorbar": {
              "outlinewidth": 0,
              "ticks": ""
             }
            },
            "marker": {
             "colorbar": {
              "outlinewidth": 0,
              "ticks": ""
             }
            },
            "type": "scatter3d"
           }
          ],
          "scattercarpet": [
           {
            "marker": {
             "colorbar": {
              "outlinewidth": 0,
              "ticks": ""
             }
            },
            "type": "scattercarpet"
           }
          ],
          "scattergeo": [
           {
            "marker": {
             "colorbar": {
              "outlinewidth": 0,
              "ticks": ""
             }
            },
            "type": "scattergeo"
           }
          ],
          "scattergl": [
           {
            "marker": {
             "colorbar": {
              "outlinewidth": 0,
              "ticks": ""
             }
            },
            "type": "scattergl"
           }
          ],
          "scattermapbox": [
           {
            "marker": {
             "colorbar": {
              "outlinewidth": 0,
              "ticks": ""
             }
            },
            "type": "scattermapbox"
           }
          ],
          "scatterpolar": [
           {
            "marker": {
             "colorbar": {
              "outlinewidth": 0,
              "ticks": ""
             }
            },
            "type": "scatterpolar"
           }
          ],
          "scatterpolargl": [
           {
            "marker": {
             "colorbar": {
              "outlinewidth": 0,
              "ticks": ""
             }
            },
            "type": "scatterpolargl"
           }
          ],
          "scatterternary": [
           {
            "marker": {
             "colorbar": {
              "outlinewidth": 0,
              "ticks": ""
             }
            },
            "type": "scatterternary"
           }
          ],
          "surface": [
           {
            "colorbar": {
             "outlinewidth": 0,
             "ticks": ""
            },
            "colorscale": [
             [
              0,
              "#0d0887"
             ],
             [
              0.1111111111111111,
              "#46039f"
             ],
             [
              0.2222222222222222,
              "#7201a8"
             ],
             [
              0.3333333333333333,
              "#9c179e"
             ],
             [
              0.4444444444444444,
              "#bd3786"
             ],
             [
              0.5555555555555556,
              "#d8576b"
             ],
             [
              0.6666666666666666,
              "#ed7953"
             ],
             [
              0.7777777777777778,
              "#fb9f3a"
             ],
             [
              0.8888888888888888,
              "#fdca26"
             ],
             [
              1,
              "#f0f921"
             ]
            ],
            "type": "surface"
           }
          ],
          "table": [
           {
            "cells": {
             "fill": {
              "color": "#EBF0F8"
             },
             "line": {
              "color": "white"
             }
            },
            "header": {
             "fill": {
              "color": "#C8D4E3"
             },
             "line": {
              "color": "white"
             }
            },
            "type": "table"
           }
          ]
         },
         "layout": {
          "annotationdefaults": {
           "arrowcolor": "#2a3f5f",
           "arrowhead": 0,
           "arrowwidth": 1
          },
          "autotypenumbers": "strict",
          "coloraxis": {
           "colorbar": {
            "outlinewidth": 0,
            "ticks": ""
           }
          },
          "colorscale": {
           "diverging": [
            [
             0,
             "#8e0152"
            ],
            [
             0.1,
             "#c51b7d"
            ],
            [
             0.2,
             "#de77ae"
            ],
            [
             0.3,
             "#f1b6da"
            ],
            [
             0.4,
             "#fde0ef"
            ],
            [
             0.5,
             "#f7f7f7"
            ],
            [
             0.6,
             "#e6f5d0"
            ],
            [
             0.7,
             "#b8e186"
            ],
            [
             0.8,
             "#7fbc41"
            ],
            [
             0.9,
             "#4d9221"
            ],
            [
             1,
             "#276419"
            ]
           ],
           "sequential": [
            [
             0,
             "#0d0887"
            ],
            [
             0.1111111111111111,
             "#46039f"
            ],
            [
             0.2222222222222222,
             "#7201a8"
            ],
            [
             0.3333333333333333,
             "#9c179e"
            ],
            [
             0.4444444444444444,
             "#bd3786"
            ],
            [
             0.5555555555555556,
             "#d8576b"
            ],
            [
             0.6666666666666666,
             "#ed7953"
            ],
            [
             0.7777777777777778,
             "#fb9f3a"
            ],
            [
             0.8888888888888888,
             "#fdca26"
            ],
            [
             1,
             "#f0f921"
            ]
           ],
           "sequentialminus": [
            [
             0,
             "#0d0887"
            ],
            [
             0.1111111111111111,
             "#46039f"
            ],
            [
             0.2222222222222222,
             "#7201a8"
            ],
            [
             0.3333333333333333,
             "#9c179e"
            ],
            [
             0.4444444444444444,
             "#bd3786"
            ],
            [
             0.5555555555555556,
             "#d8576b"
            ],
            [
             0.6666666666666666,
             "#ed7953"
            ],
            [
             0.7777777777777778,
             "#fb9f3a"
            ],
            [
             0.8888888888888888,
             "#fdca26"
            ],
            [
             1,
             "#f0f921"
            ]
           ]
          },
          "colorway": [
           "#636efa",
           "#EF553B",
           "#00cc96",
           "#ab63fa",
           "#FFA15A",
           "#19d3f3",
           "#FF6692",
           "#B6E880",
           "#FF97FF",
           "#FECB52"
          ],
          "font": {
           "color": "#2a3f5f"
          },
          "geo": {
           "bgcolor": "white",
           "lakecolor": "white",
           "landcolor": "#E5ECF6",
           "showlakes": true,
           "showland": true,
           "subunitcolor": "white"
          },
          "hoverlabel": {
           "align": "left"
          },
          "hovermode": "closest",
          "mapbox": {
           "style": "light"
          },
          "paper_bgcolor": "white",
          "plot_bgcolor": "#E5ECF6",
          "polar": {
           "angularaxis": {
            "gridcolor": "white",
            "linecolor": "white",
            "ticks": ""
           },
           "bgcolor": "#E5ECF6",
           "radialaxis": {
            "gridcolor": "white",
            "linecolor": "white",
            "ticks": ""
           }
          },
          "scene": {
           "xaxis": {
            "backgroundcolor": "#E5ECF6",
            "gridcolor": "white",
            "gridwidth": 2,
            "linecolor": "white",
            "showbackground": true,
            "ticks": "",
            "zerolinecolor": "white"
           },
           "yaxis": {
            "backgroundcolor": "#E5ECF6",
            "gridcolor": "white",
            "gridwidth": 2,
            "linecolor": "white",
            "showbackground": true,
            "ticks": "",
            "zerolinecolor": "white"
           },
           "zaxis": {
            "backgroundcolor": "#E5ECF6",
            "gridcolor": "white",
            "gridwidth": 2,
            "linecolor": "white",
            "showbackground": true,
            "ticks": "",
            "zerolinecolor": "white"
           }
          },
          "shapedefaults": {
           "line": {
            "color": "#2a3f5f"
           }
          },
          "ternary": {
           "aaxis": {
            "gridcolor": "white",
            "linecolor": "white",
            "ticks": ""
           },
           "baxis": {
            "gridcolor": "white",
            "linecolor": "white",
            "ticks": ""
           },
           "bgcolor": "#E5ECF6",
           "caxis": {
            "gridcolor": "white",
            "linecolor": "white",
            "ticks": ""
           }
          },
          "title": {
           "x": 0.05
          },
          "xaxis": {
           "automargin": true,
           "gridcolor": "white",
           "linecolor": "white",
           "ticks": "",
           "title": {
            "standoff": 15
           },
           "zerolinecolor": "white",
           "zerolinewidth": 2
          },
          "yaxis": {
           "automargin": true,
           "gridcolor": "white",
           "linecolor": "white",
           "ticks": "",
           "title": {
            "standoff": 15
           },
           "zerolinecolor": "white",
           "zerolinewidth": 2
          }
         }
        },
        "title": {
         "text": "Summary Time Series - Regular Fuel"
        },
        "xaxis": {
         "autorange": true,
         "range": [
          "2024-04-02",
          "2024-05-01"
         ],
         "type": "date"
        },
        "yaxis": {
         "autorange": true,
         "range": [
          3.005,
          3.305
         ],
         "type": "linear"
        }
       }
      },
      "image/png": "[encoded data removed]",
      "text/html": [
       "<div>                            <div id=\"1db53d17-2e05-4947-9e66-698020f2adca\" class=\"plotly-graph-div\" style=\"height:500px; width:100%;\"></div>            <script type=\"text/javascript\">                require([\"plotly\"], function(Plotly) {                    window.PLOTLYENV=window.PLOTLYENV || {};                                    if (document.getElementById(\"1db53d17-2e05-4947-9e66-698020f2adca\")) {                    Plotly.newPlot(                        \"1db53d17-2e05-4947-9e66-698020f2adca\",                        [{\"line\":{\"color\":\"gray\",\"dash\":\"dash\"},\"name\":\"Average\",\"x\":[\"2024-04-02\",\"2024-04-03\",\"2024-04-04\",\"2024-04-05\",\"2024-04-06\",\"2024-04-07\",\"2024-04-08\",\"2024-04-09\",\"2024-04-10\",\"2024-04-11\",\"2024-04-12\",\"2024-04-13\",\"2024-04-14\",\"2024-04-15\",\"2024-04-16\",\"2024-04-17\",\"2024-04-18\",\"2024-04-19\",\"2024-04-20\",\"2024-04-21\",\"2024-04-22\",\"2024-04-23\",\"2024-04-24\",\"2024-04-25\",\"2024-04-26\",\"2024-04-27\",\"2024-04-28\",\"2024-04-29\",\"2024-04-30\",\"2024-05-01\"],\"y\":[3.14,3.1757142857142857,3.184285714285714,3.18125,3.1625,3.153333333333333,3.098,3.242857142857143,3.2625,3.2585714285714285,3.281428571428571,3.26375,3.2600000000000002,3.2533333333333334,3.235,3.2271428571428573,3.1799999999999997,3.1799999999999997,3.1699999999999995,3.132857142857143,3.115,3.068,3.0799999999999996,3.064285714285714,3.064285714285714,3.063333333333333,3.063333333333333,3.062,3.224285714285714,3.224285714285714],\"type\":\"scatter\"},{\"name\":\"Max\",\"x\":[\"2024-04-02\",\"2024-04-03\",\"2024-04-04\",\"2024-04-05\",\"2024-04-06\",\"2024-04-07\",\"2024-04-08\",\"2024-04-09\",\"2024-04-10\",\"2024-04-11\",\"2024-04-12\",\"2024-04-13\",\"2024-04-14\",\"2024-04-15\",\"2024-04-16\",\"2024-04-17\",\"2024-04-18\",\"2024-04-19\",\"2024-04-20\",\"2024-04-21\",\"2024-04-22\",\"2024-04-23\",\"2024-04-24\",\"2024-04-25\",\"2024-04-26\",\"2024-04-27\",\"2024-04-28\",\"2024-04-29\",\"2024-04-30\",\"2024-05-01\"],\"y\":[3.19,3.19,3.19,3.19,3.19,3.19,3.15,3.29,3.29,3.29,3.29,3.29,3.29,3.29,3.26,3.26,3.26,3.26,3.26,3.15,3.15,3.1,3.15,3.07,3.07,3.07,3.07,3.07,3.29,3.29],\"type\":\"scatter\"},{\"fill\":\"tonexty\",\"line\":{\"color\":\"blue\"},\"name\":\"Min\",\"x\":[\"2024-04-02\",\"2024-04-03\",\"2024-04-04\",\"2024-04-05\",\"2024-04-06\",\"2024-04-07\",\"2024-04-08\",\"2024-04-09\",\"2024-04-10\",\"2024-04-11\",\"2024-04-12\",\"2024-04-13\",\"2024-04-14\",\"2024-04-15\",\"2024-04-16\",\"2024-04-17\",\"2024-04-18\",\"2024-04-19\",\"2024-04-20\",\"2024-04-21\",\"2024-04-22\",\"2024-04-23\",\"2024-04-24\",\"2024-04-25\",\"2024-04-26\",\"2024-04-27\",\"2024-04-28\",\"2024-04-29\",\"2024-04-30\",\"2024-05-01\"],\"y\":[3.02,3.09,3.15,3.12,3.09,3.09,3.04,3.1,3.1,3.1,3.23,3.23,3.23,3.19,3.19,3.15,3.11,3.11,3.11,3.09,3.04,3.03,3.03,3.03,3.03,3.03,3.03,3.03,3.03,3.03],\"type\":\"scatter\"}],                        {\"height\":500,\"hovermode\":\"x\",\"template\":{\"data\":{\"barpolar\":[{\"marker\":{\"line\":{\"color\":\"#E5ECF6\",\"width\":0.5},\"pattern\":{\"fillmode\":\"overlay\",\"size\":10,\"solidity\":0.2}},\"type\":\"barpolar\"}],\"bar\":[{\"error_x\":{\"color\":\"#2a3f5f\"},\"error_y\":{\"color\":\"#2a3f5f\"},\"marker\":{\"line\":{\"color\":\"#E5ECF6\",\"width\":0.5},\"pattern\":{\"fillmode\":\"overlay\",\"size\":10,\"solidity\":0.2}},\"type\":\"bar\"}],\"carpet\":[{\"aaxis\":{\"endlinecolor\":\"#2a3f5f\",\"gridcolor\":\"white\",\"linecolor\":\"white\",\"minorgridcolor\":\"white\",\"startlinecolor\":\"#2a3f5f\"},\"baxis\":{\"endlinecolor\":\"#2a3f5f\",\"gridcolor\":\"white\",\"linecolor\":\"white\",\"minorgridcolor\":\"white\",\"startlinecolor\":\"#2a3f5f\"},\"type\":\"carpet\"}],\"choropleth\":[{\"colorbar\":{\"outlinewidth\":0,\"ticks\":\"\"},\"type\":\"choropleth\"}],\"contourcarpet\":[{\"colorbar\":{\"outlinewidth\":0,\"ticks\":\"\"},\"type\":\"contourcarpet\"}],\"contour\":[{\"colorbar\":{\"outlinewidth\":0,\"ticks\":\"\"},\"colorscale\":[[0.0,\"#0d0887\"],[0.1111111111111111,\"#46039f\"],[0.2222222222222222,\"#7201a8\"],[0.3333333333333333,\"#9c179e\"],[0.4444444444444444,\"#bd3786\"],[0.5555555555555556,\"#d8576b\"],[0.6666666666666666,\"#ed7953\"],[0.7777777777777778,\"#fb9f3a\"],[0.8888888888888888,\"#fdca26\"],[1.0,\"#f0f921\"]],\"type\":\"contour\"}],\"heatmapgl\":[{\"colorbar\":{\"outlinewidth\":0,\"ticks\":\"\"},\"colorscale\":[[0.0,\"#0d0887\"],[0.1111111111111111,\"#46039f\"],[0.2222222222222222,\"#7201a8\"],[0.3333333333333333,\"#9c179e\"],[0.4444444444444444,\"#bd3786\"],[0.5555555555555556,\"#d8576b\"],[0.6666666666666666,\"#ed7953\"],[0.7777777777777778,\"#fb9f3a\"],[0.8888888888888888,\"#fdca26\"],[1.0,\"#f0f921\"]],\"type\":\"heatmapgl\"}],\"heatmap\":[{\"colorbar\":{\"outlinewidth\":0,\"ticks\":\"\"},\"colorscale\":[[0.0,\"#0d0887\"],[0.1111111111111111,\"#46039f\"],[0.2222222222222222,\"#7201a8\"],[0.3333333333333333,\"#9c179e\"],[0.4444444444444444,\"#bd3786\"],[0.5555555555555556,\"#d8576b\"],[0.6666666666666666,\"#ed7953\"],[0.7777777777777778,\"#fb9f3a\"],[0.8888888888888888,\"#fdca26\"],[1.0,\"#f0f921\"]],\"type\":\"heatmap\"}],\"histogram2dcontour\":[{\"colorbar\":{\"outlinewidth\":0,\"ticks\":\"\"},\"colorscale\":[[0.0,\"#0d0887\"],[0.1111111111111111,\"#46039f\"],[0.2222222222222222,\"#7201a8\"],[0.3333333333333333,\"#9c179e\"],[0.4444444444444444,\"#bd3786\"],[0.5555555555555556,\"#d8576b\"],[0.6666666666666666,\"#ed7953\"],[0.7777777777777778,\"#fb9f3a\"],[0.8888888888888888,\"#fdca26\"],[1.0,\"#f0f921\"]],\"type\":\"histogram2dcontour\"}],\"histogram2d\":[{\"colorbar\":{\"outlinewidth\":0,\"ticks\":\"\"},\"colorscale\":[[0.0,\"#0d0887\"],[0.1111111111111111,\"#46039f\"],[0.2222222222222222,\"#7201a8\"],[0.3333333333333333,\"#9c179e\"],[0.4444444444444444,\"#bd3786\"],[0.5555555555555556,\"#d8576b\"],[0.6666666666666666,\"#ed7953\"],[0.7777777777777778,\"#fb9f3a\"],[0.8888888888888888,\"#fdca26\"],[1.0,\"#f0f921\"]],\"type\":\"histogram2d\"}],\"histogram\":[{\"marker\":{\"pattern\":{\"fillmode\":\"overlay\",\"size\":10,\"solidity\":0.2}},\"type\":\"histogram\"}],\"mesh3d\":[{\"colorbar\":{\"outlinewidth\":0,\"ticks\":\"\"},\"type\":\"mesh3d\"}],\"parcoords\":[{\"line\":{\"colorbar\":{\"outlinewidth\":0,\"ticks\":\"\"}},\"type\":\"parcoords\"}],\"pie\":[{\"automargin\":true,\"type\":\"pie\"}],\"scatter3d\":[{\"line\":{\"colorbar\":{\"outlinewidth\":0,\"ticks\":\"\"}},\"marker\":{\"colorbar\":{\"outlinewidth\":0,\"ticks\":\"\"}},\"type\":\"scatter3d\"}],\"scattercarpet\":[{\"marker\":{\"colorbar\":{\"outlinewidth\":0,\"ticks\":\"\"}},\"type\":\"scattercarpet\"}],\"scattergeo\":[{\"marker\":{\"colorbar\":{\"outlinewidth\":0,\"ticks\":\"\"}},\"type\":\"scattergeo\"}],\"scattergl\":[{\"marker\":{\"colorbar\":{\"outlinewidth\":0,\"ticks\":\"\"}},\"type\":\"scattergl\"}],\"scattermapbox\":[{\"marker\":{\"colorbar\":{\"outlinewidth\":0,\"ticks\":\"\"}},\"type\":\"scattermapbox\"}],\"scatterpolargl\":[{\"marker\":{\"colorbar\":{\"outlinewidth\":0,\"ticks\":\"\"}},\"type\":\"scatterpolargl\"}],\"scatterpolar\":[{\"marker\":{\"colorbar\":{\"outlinewidth\":0,\"ticks\":\"\"}},\"type\":\"scatterpolar\"}],\"scatter\":[{\"fillpattern\":{\"fillmode\":\"overlay\",\"size\":10,\"solidity\":0.2},\"type\":\"scatter\"}],\"scatterternary\":[{\"marker\":{\"colorbar\":{\"outlinewidth\":0,\"ticks\":\"\"}},\"type\":\"scatterternary\"}],\"surface\":[{\"colorbar\":{\"outlinewidth\":0,\"ticks\":\"\"},\"colorscale\":[[0.0,\"#0d0887\"],[0.1111111111111111,\"#46039f\"],[0.2222222222222222,\"#7201a8\"],[0.3333333333333333,\"#9c179e\"],[0.4444444444444444,\"#bd3786\"],[0.5555555555555556,\"#d8576b\"],[0.6666666666666666,\"#ed7953\"],[0.7777777777777778,\"#fb9f3a\"],[0.8888888888888888,\"#fdca26\"],[1.0,\"#f0f921\"]],\"type\":\"surface\"}],\"table\":[{\"cells\":{\"fill\":{\"color\":\"#EBF0F8\"},\"line\":{\"color\":\"white\"}},\"header\":{\"fill\":{\"color\":\"#C8D4E3\"},\"line\":{\"color\":\"white\"}},\"type\":\"table\"}]},\"layout\":{\"annotationdefaults\":{\"arrowcolor\":\"#2a3f5f\",\"arrowhead\":0,\"arrowwidth\":1},\"autotypenumbers\":\"strict\",\"coloraxis\":{\"colorbar\":{\"outlinewidth\":0,\"ticks\":\"\"}},\"colorscale\":{\"diverging\":[[0,\"#8e0152\"],[0.1,\"#c51b7d\"],[0.2,\"#de77ae\"],[0.3,\"#f1b6da\"],[0.4,\"#fde0ef\"],[0.5,\"#f7f7f7\"],[0.6,\"#e6f5d0\"],[0.7,\"#b8e186\"],[0.8,\"#7fbc41\"],[0.9,\"#4d9221\"],[1,\"#276419\"]],\"sequential\":[[0.0,\"#0d0887\"],[0.1111111111111111,\"#46039f\"],[0.2222222222222222,\"#7201a8\"],[0.3333333333333333,\"#9c179e\"],[0.4444444444444444,\"#bd3786\"],[0.5555555555555556,\"#d8576b\"],[0.6666666666666666,\"#ed7953\"],[0.7777777777777778,\"#fb9f3a\"],[0.8888888888888888,\"#fdca26\"],[1.0,\"#f0f921\"]],\"sequentialminus\":[[0.0,\"#0d0887\"],[0.1111111111111111,\"#46039f\"],[0.2222222222222222,\"#7201a8\"],[0.3333333333333333,\"#9c179e\"],[0.4444444444444444,\"#bd3786\"],[0.5555555555555556,\"#d8576b\"],[0.6666666666666666,\"#ed7953\"],[0.7777777777777778,\"#fb9f3a\"],[0.8888888888888888,\"#fdca26\"],[1.0,\"#f0f921\"]]},\"colorway\":[\"#636efa\",\"#EF553B\",\"#00cc96\",\"#ab63fa\",\"#FFA15A\",\"#19d3f3\",\"#FF6692\",\"#B6E880\",\"#FF97FF\",\"#FECB52\"],\"font\":{\"color\":\"#2a3f5f\"},\"geo\":{\"bgcolor\":\"white\",\"lakecolor\":\"white\",\"landcolor\":\"#E5ECF6\",\"showlakes\":true,\"showland\":true,\"subunitcolor\":\"white\"},\"hoverlabel\":{\"align\":\"left\"},\"hovermode\":\"closest\",\"mapbox\":{\"style\":\"light\"},\"paper_bgcolor\":\"white\",\"plot_bgcolor\":\"#E5ECF6\",\"polar\":{\"angularaxis\":{\"gridcolor\":\"white\",\"linecolor\":\"white\",\"ticks\":\"\"},\"bgcolor\":\"#E5ECF6\",\"radialaxis\":{\"gridcolor\":\"white\",\"linecolor\":\"white\",\"ticks\":\"\"}},\"scene\":{\"xaxis\":{\"backgroundcolor\":\"#E5ECF6\",\"gridcolor\":\"white\",\"gridwidth\":2,\"linecolor\":\"white\",\"showbackground\":true,\"ticks\":\"\",\"zerolinecolor\":\"white\"},\"yaxis\":{\"backgroundcolor\":\"#E5ECF6\",\"gridcolor\":\"white\",\"gridwidth\":2,\"linecolor\":\"white\",\"showbackground\":true,\"ticks\":\"\",\"zerolinecolor\":\"white\"},\"zaxis\":{\"backgroundcolor\":\"#E5ECF6\",\"gridcolor\":\"white\",\"gridwidth\":2,\"linecolor\":\"white\",\"showbackground\":true,\"ticks\":\"\",\"zerolinecolor\":\"white\"}},\"shapedefaults\":{\"line\":{\"color\":\"#2a3f5f\"}},\"ternary\":{\"aaxis\":{\"gridcolor\":\"white\",\"linecolor\":\"white\",\"ticks\":\"\"},\"baxis\":{\"gridcolor\":\"white\",\"linecolor\":\"white\",\"ticks\":\"\"},\"bgcolor\":\"#E5ECF6\",\"caxis\":{\"gridcolor\":\"white\",\"linecolor\":\"white\",\"ticks\":\"\"}},\"title\":{\"x\":0.05},\"xaxis\":{\"automargin\":true,\"gridcolor\":\"white\",\"linecolor\":\"white\",\"ticks\":\"\",\"title\":{\"standoff\":15},\"zerolinecolor\":\"white\",\"zerolinewidth\":2},\"yaxis\":{\"automargin\":true,\"gridcolor\":\"white\",\"linecolor\":\"white\",\"ticks\":\"\",\"title\":{\"standoff\":15},\"zerolinecolor\":\"white\",\"zerolinewidth\":2}}},\"title\":{\"text\":\"Summary Time Series - Regular Fuel\"}},                        {\"responsive\": true}                    ).then(function(){\n",
       "                            \n",
       "var gd = document.getElementById('1db53d17-2e05-4947-9e66-698020f2adca');\n",
       "var x = new MutationObserver(function (mutations, observer) {{\n",
       "        var display = window.getComputedStyle(gd).display;\n",
       "        if (!display || display === 'none') {{\n",
       "            console.log([gd, 'removed!']);\n",
       "            Plotly.purge(gd);\n",
       "            observer.disconnect();\n",
       "        }}\n",
       "}});\n",
       "\n",
       "// Listen for the removal of the full notebook cells\n",
       "var notebookContainer = gd.closest('#notebook-container');\n",
       "if (notebookContainer) {{\n",
       "    x.observe(notebookContainer, {childList: true});\n",
       "}}\n",
       "\n",
       "// Listen for the clearing of the current output cell\n",
       "var outputEl = gd.closest('.output');\n",
       "if (outputEl) {{\n",
       "    x.observe(outputEl, {childList: true});\n",
       "}}\n",
       "\n",
       "                        })                };                });            </script>        </div>"
      ]
     },
     "metadata": {},
     "output_type": "display_data"
    }
   ],
   "source": [
    "def compute_summary_time_series(df: pd.DataFrame, fuel_type: str) -> list:\n",
    "    dff = df[df['FuelType'] == fuel_type].copy()\n",
    "    dff['ScrapeTime'] = dff['ScrapeTime'].dt.date\n",
    "    mean_price = dff.groupby('ScrapeTime')['CondPrice'].mean()\n",
    "    max_price = dff.groupby('ScrapeTime')['CondPrice'].max()\n",
    "    min_price = dff.groupby('ScrapeTime')['CondPrice'].min()\n",
    "    traces = []\n",
    "    traces.append(go.Scatter(x=mean_price.index, y=mean_price.values,name='Average', line_dash='dash', line_color='gray'))\n",
    "    traces.append(go.Scatter(x=max_price.index, y=max_price.values,name='Max'))\n",
    "    traces.append(go.Scatter(x=min_price.index, y=min_price.values,name='Min', fill='tonexty', line_color='blue'))\n",
    "    return traces\n",
    "\n",
    "layout = {\n",
    "    'height':500,\n",
    "    'title': {'text':'Summary Time Series - Regular Fuel'},\n",
    "    'hovermode':'x'\n",
    "}\n",
    "fig = go.Figure(data=compute_summary_time_series(df, 'regular'), layout=layout)\n",
    "iplot(fig)"
   ]
  },
  {
   "cell_type": "code",
   "execution_count": 60,
   "id": "d38db6ee-dc26-467a-bee5-86b46d51b5b8",
   "metadata": {},
   "outputs": [
    {
     "name": "stdout",
     "output_type": "stream",
     "text": [
      "Murphy USA - 2635 Grand Ave|Carthage, MO => Mean Position: 0.23 | Percent Lowest 86.7% | Price Delta Mean: $0.15\n",
      "Phillips 66 - 2812 Hazel St|Carthage, MO => Mean Position: 3.35 | Percent Lowest 10.0% | Price Delta Mean: $0.07\n",
      "Casey's - 2214 Fairlawn Ave|Carthage, MO => Mean Position: 2.17 | Percent Lowest 0.0% | Price Delta Mean: $0.08\n",
      "Casey's - 917 W Central Ave|Carthage, MO => Mean Position: 1.50 | Percent Lowest 0.0% | Price Delta Mean: $0.08\n",
      "Flyin W - 13011 MO-96|Carthage, MO => Mean Position: 5.00 | Percent Lowest 0.0% | Price Delta Mean: $0.10\n",
      "Phillips 66 - 1224 W Central Ave|Carthage, MO => Mean Position: 4.73 | Percent Lowest 0.0% | Price Delta Mean: $0.10\n",
      "The Corner - 824 E Fairview Ave|Carthage, MO => Mean Position: 4.50 | Percent Lowest 3.3% | Price Delta Mean: $0.09\n",
      "Phillips 66 - 201 E Central Ave|Carthage, MO => Mean Position: 4.29 | Percent Lowest 0.0% | Price Delta Mean: $0.09\n"
     ]
    }
   ],
   "source": [
    "qty_days = len(df['ScrapeDate'].unique())\n",
    "for station in df['StationAddress'].unique():\n",
    "    dff = df[(df['StationAddress'] == station) & (df['FuelType']  == 'regular')].copy()\n",
    "    qty_lowest = np.where(dff['CondCardPos'] == 0, 1,0).sum()\n",
    "    station_mean = dff['CondCardPos'].mean()\n",
    "    station_price_delta_mean = dff[dff['CondCardPos'] > 0]['PriceDelta'].mean()\n",
    "    print(f\"{station} => Mean Position: {station_mean:.2f} | Percent Lowest {(qty_lowest/qty_days)*100:,.1f}% | Price Delta Mean: ${station_price_delta_mean:.2f}\")"
   ]
  },
  {
   "cell_type": "code",
   "execution_count": null,
   "id": "2d513c1c-d8b1-49d8-8cf1-ac46677dbaa0",
   "metadata": {},
   "outputs": [],
   "source": []
  }
 ],
 "metadata": {
  "kernelspec": {
   "display_name": "Python 3 (ipykernel)",
   "language": "python",
   "name": "python3"
  },
  "language_info": {
   "codemirror_mode": {
    "name": "ipython",
    "version": 3
   },
   "file_extension": ".py",
   "mimetype": "text/x-python",
   "name": "python",
   "nbconvert_exporter": "python",
   "pygments_lexer": "ipython3",
   "version": "3.8.7"
  }
 },
 "nbformat": 4,
 "nbformat_minor": 5
}
